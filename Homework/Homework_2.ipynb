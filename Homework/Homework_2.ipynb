{
  "nbformat": 4,
  "nbformat_minor": 0,
  "metadata": {
    "colab": {
      "name": "Homework_2",
      "provenance": [],
      "collapsed_sections": []
    },
    "kernelspec": {
      "name": "python3",
      "display_name": "Python 3"
    }
  },
  "cells": [
    {
      "cell_type": "code",
      "metadata": {
        "id": "f2RPDU_fnj6f",
        "colab_type": "code",
        "colab": {}
      },
      "source": [
        "import re\n",
        "import pandas as pd\n",
        "import spacy"
      ],
      "execution_count": 0,
      "outputs": []
    },
    {
      "cell_type": "code",
      "metadata": {
        "id": "9jSSMBtgnohF",
        "colab_type": "code",
        "colab": {}
      },
      "source": [
        "data=pd.read_json('http://snap.stanford.edu/data/amazon/productGraph/categoryFiles/reviews_Office_Products_5.json.gz',lines=True)\n",
        "\n",
        "\n",
        "\n",
        "data\n",
        "sp=spacy.load('en')"
      ],
      "execution_count": 0,
      "outputs": []
    },
    {
      "cell_type": "code",
      "metadata": {
        "id": "lopBOaweonWG",
        "colab_type": "code",
        "colab": {}
      },
      "source": [
        "def sp_tokenizer(text):\n",
        "  text=text.lower()\n",
        "  text=re.sub('[^a-zA-Z]',' ',text)\n",
        "  tokens=' '.join([token.text for token in sp(text)])\n",
        "  lemma= ' '.join([word.lemma_ for word in sp(text)])\n",
        "  tags=dict([(word.text,word.pos_) for word in sp(text)])\n",
        "  adjs=' '.join([word for word in tags if tags[word]=='ADJ'])\n",
        "  dict_token={\"tokens\":tokens,\"lemma\":lemma,\"adjectives\":adjs}\n",
        "  return dict_token"
      ],
      "execution_count": 0,
      "outputs": []
    },
    {
      "cell_type": "code",
      "metadata": {
        "id": "_dOkY1feqdNb",
        "colab_type": "code",
        "outputId": "aac4a22e-04cf-4ba4-b80e-39fdef15e707",
        "colab": {
          "base_uri": "https://localhost:8080/",
          "height": 54
        }
      },
      "source": [
        "sentence=data['reviewText'][0]\n",
        "sentence"
      ],
      "execution_count": 6,
      "outputs": [
        {
          "output_type": "execute_result",
          "data": {
            "text/plain": [
              "\"I bought my first HP12C in about 1984 or so, and it served me faithfully until 2002 when I lost it while travelling.  I searched for another one to replace it, but found one difficult to come by in my area.  So, I decided to buy up and purchased an HP 49G.  What a mistake!  I know that many people view the HP 49G (now 49G+) as the flagship of the HP line, but for me that was a disaster.The 49G may be powerful, but using it is extremely counterintuitive...and the manual was sketchy at best.  The 12C, on the other hand, does what I need in a way that makes good sense to me.If you are looking for a solid, reliable calculator, the HP12C may be for you.  It's programmable.  It does basic statistics well, and many business applications too.  The manual makes sense; you will be up and running in short order.I'm ready to set my 49G aside and move back to my old friend.  I didn't even have to replace the batteries in well over a decade of use!HP 12C, I'm coming home!\""
            ]
          },
          "metadata": {
            "tags": []
          },
          "execution_count": 6
        }
      ]
    },
    {
      "cell_type": "code",
      "metadata": {
        "id": "mHSZeXVPq2kI",
        "colab_type": "code",
        "outputId": "a2e79a1c-1c5e-4746-e2f9-935b2a80e94d",
        "colab": {
          "base_uri": "https://localhost:8080/",
          "height": 88
        }
      },
      "source": [
        "sp_tokenizer(sentence)"
      ],
      "execution_count": 7,
      "outputs": [
        {
          "output_type": "execute_result",
          "data": {
            "text/plain": [
              "{'adjectives': 'first difficult many powerful counterintuitive sketchy best other good solid reliable programmable basic short ready old',\n",
              " 'lemma': 'i buy -PRON- first hp   c in about       or so   and -PRON- serve -PRON- faithfully until       when i lose -PRON- while travel    i search for another one to replace -PRON-   but find one difficult to come by in -PRON- area    so   i decide to buy up and purchase an hp    g    what a mistake    i know that many people view the hp    g   now    g    as the flagship of the hp line   but for -PRON- that be a disaster the    g may be powerful   but use -PRON- be extremely counterintuitive    and the manual be sketchy at good    the    c   on the other hand   do what i need in a way that make good sense to -PRON- if -PRON- be look for a solid   reliable calculator   the hp   c may be for -PRON-    -PRON- s programmable    -PRON- do basic statistic well   and many business application too    the manual make sense   -PRON- will be up and run in short order i m ready to set -PRON-    g aside and move back to -PRON- old friend    i didn t even have to replace the battery in well over a decade of use hp    c   i m come home',\n",
              " 'tokens': 'i bought my first hp   c in about       or so   and it served me faithfully until       when i lost it while travelling    i searched for another one to replace it   but found one difficult to come by in my area    so   i decided to buy up and purchased an hp    g    what a mistake    i know that many people view the hp    g   now    g    as the flagship of the hp line   but for me that was a disaster the    g may be powerful   but using it is extremely counterintuitive    and the manual was sketchy at best    the    c   on the other hand   does what i need in a way that makes good sense to me if you are looking for a solid   reliable calculator   the hp   c may be for you    it s programmable    it does basic statistics well   and many business applications too    the manual makes sense   you will be up and running in short order i m ready to set my    g aside and move back to my old friend    i didn t even have to replace the batteries in well over a decade of use hp    c   i m coming home'}"
            ]
          },
          "metadata": {
            "tags": []
          },
          "execution_count": 7
        }
      ]
    },
    {
      "cell_type": "code",
      "metadata": {
        "id": "bn1Z8Sk7rvlO",
        "colab_type": "code",
        "colab": {}
      },
      "source": [
        ""
      ],
      "execution_count": 0,
      "outputs": []
    }
  ]
}