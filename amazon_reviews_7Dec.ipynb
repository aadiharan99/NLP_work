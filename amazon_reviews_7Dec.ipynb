{
  "nbformat": 4,
  "nbformat_minor": 0,
  "metadata": {
    "colab": {
      "name": "Untitled10.ipynb",
      "provenance": [],
      "collapsed_sections": []
    },
    "kernelspec": {
      "name": "python3",
      "display_name": "Python 3"
    }
  },
  "cells": [
    {
      "cell_type": "code",
      "metadata": {
        "id": "7n1-LE9uxBbJ",
        "colab_type": "code",
        "colab": {}
      },
      "source": [
        "import numpy as np\n",
        "import itertools\n",
        "import collections\n",
        "from sklearn.feature_extraction.text import CountVectorizer"
      ],
      "execution_count": 0,
      "outputs": []
    },
    {
      "cell_type": "code",
      "metadata": {
        "id": "hly-jQ6OxD2_",
        "colab_type": "code",
        "outputId": "664376aa-4093-446f-e03b-e07b3f00b6d7",
        "colab": {
          "base_uri": "https://localhost:8080/",
          "height": 570
        }
      },
      "source": [
        "import pandas as pd\n",
        "import gzip\n",
        "\n",
        "\n",
        "data=pd.read_json('http://snap.stanford.edu/data/amazon/productGraph/categoryFiles/reviews_Office_Products_5.json.gz',lines=True)\n",
        "\n",
        "\n",
        "\n",
        "data"
      ],
      "execution_count": 0,
      "outputs": [
        {
          "output_type": "execute_result",
          "data": {
            "text/html": [
              "<div>\n",
              "<style scoped>\n",
              "    .dataframe tbody tr th:only-of-type {\n",
              "        vertical-align: middle;\n",
              "    }\n",
              "\n",
              "    .dataframe tbody tr th {\n",
              "        vertical-align: top;\n",
              "    }\n",
              "\n",
              "    .dataframe thead th {\n",
              "        text-align: right;\n",
              "    }\n",
              "</style>\n",
              "<table border=\"1\" class=\"dataframe\">\n",
              "  <thead>\n",
              "    <tr style=\"text-align: right;\">\n",
              "      <th></th>\n",
              "      <th>reviewerID</th>\n",
              "      <th>asin</th>\n",
              "      <th>reviewerName</th>\n",
              "      <th>helpful</th>\n",
              "      <th>reviewText</th>\n",
              "      <th>overall</th>\n",
              "      <th>summary</th>\n",
              "      <th>unixReviewTime</th>\n",
              "      <th>reviewTime</th>\n",
              "    </tr>\n",
              "  </thead>\n",
              "  <tbody>\n",
              "    <tr>\n",
              "      <th>0</th>\n",
              "      <td>A32T2H8150OJLU</td>\n",
              "      <td>B00000JBLH</td>\n",
              "      <td>ARH</td>\n",
              "      <td>[3, 4]</td>\n",
              "      <td>I bought my first HP12C in about 1984 or so, a...</td>\n",
              "      <td>5</td>\n",
              "      <td>A solid performer, and long time friend</td>\n",
              "      <td>1094169600</td>\n",
              "      <td>09 3, 2004</td>\n",
              "    </tr>\n",
              "    <tr>\n",
              "      <th>1</th>\n",
              "      <td>A3MAFS04ZABRGO</td>\n",
              "      <td>B00000JBLH</td>\n",
              "      <td>Let it Be \"Alan\"</td>\n",
              "      <td>[7, 9]</td>\n",
              "      <td>WHY THIS BELATED REVIEW? I feel very obliged t...</td>\n",
              "      <td>5</td>\n",
              "      <td>Price of GOLD is up, so don't bury the golden ...</td>\n",
              "      <td>1197676800</td>\n",
              "      <td>12 15, 2007</td>\n",
              "    </tr>\n",
              "    <tr>\n",
              "      <th>2</th>\n",
              "      <td>A1F1A0QQP2XVH5</td>\n",
              "      <td>B00000JBLH</td>\n",
              "      <td>Mark B</td>\n",
              "      <td>[3, 3]</td>\n",
              "      <td>I have an HP 48GX that has been kicking for mo...</td>\n",
              "      <td>2</td>\n",
              "      <td>Good functionality, but not durable like old HPs</td>\n",
              "      <td>1293840000</td>\n",
              "      <td>01 1, 2011</td>\n",
              "    </tr>\n",
              "    <tr>\n",
              "      <th>3</th>\n",
              "      <td>A49R5DBXXQDE5</td>\n",
              "      <td>B00000JBLH</td>\n",
              "      <td>R. D Johnson</td>\n",
              "      <td>[7, 8]</td>\n",
              "      <td>I've started doing more finance stuff recently...</td>\n",
              "      <td>5</td>\n",
              "      <td>One of the last of an almost extinct species</td>\n",
              "      <td>1145404800</td>\n",
              "      <td>04 19, 2006</td>\n",
              "    </tr>\n",
              "    <tr>\n",
              "      <th>4</th>\n",
              "      <td>A2XRMQA6PJ5ZJ8</td>\n",
              "      <td>B00000JBLH</td>\n",
              "      <td>Roger J. Buffington</td>\n",
              "      <td>[0, 0]</td>\n",
              "      <td>For simple calculations and discounted cash fl...</td>\n",
              "      <td>5</td>\n",
              "      <td>Still the best</td>\n",
              "      <td>1375574400</td>\n",
              "      <td>08 4, 2013</td>\n",
              "    </tr>\n",
              "    <tr>\n",
              "      <th>...</th>\n",
              "      <td>...</td>\n",
              "      <td>...</td>\n",
              "      <td>...</td>\n",
              "      <td>...</td>\n",
              "      <td>...</td>\n",
              "      <td>...</td>\n",
              "      <td>...</td>\n",
              "      <td>...</td>\n",
              "      <td>...</td>\n",
              "    </tr>\n",
              "    <tr>\n",
              "      <th>53253</th>\n",
              "      <td>A1ODOGXEYECQQ8</td>\n",
              "      <td>B00KYA0RC2</td>\n",
              "      <td>Nuknuk</td>\n",
              "      <td>[0, 0]</td>\n",
              "      <td>What I like about this scale is you can power ...</td>\n",
              "      <td>4</td>\n",
              "      <td>Portable and very easy to use</td>\n",
              "      <td>1405555200</td>\n",
              "      <td>07 17, 2014</td>\n",
              "    </tr>\n",
              "    <tr>\n",
              "      <th>53254</th>\n",
              "      <td>A2XX2A4OJCDNLZ</td>\n",
              "      <td>B00KYA0RC2</td>\n",
              "      <td>RatherLiveInKeyWest</td>\n",
              "      <td>[2, 2]</td>\n",
              "      <td>This Accuteck ShipPro digital scale works very...</td>\n",
              "      <td>5</td>\n",
              "      <td>Accuteck ShipPro Digital Postal Scale - Stand-...</td>\n",
              "      <td>1405296000</td>\n",
              "      <td>07 14, 2014</td>\n",
              "    </tr>\n",
              "    <tr>\n",
              "      <th>53255</th>\n",
              "      <td>A3LGT6UZL99IW1</td>\n",
              "      <td>B00KYA0RC2</td>\n",
              "      <td>Richard C. Drew \"Anaal Nathra/Uthe vas Bethod...</td>\n",
              "      <td>[1, 1]</td>\n",
              "      <td>I ship a lot of stuff.  I sell small parts, ma...</td>\n",
              "      <td>5</td>\n",
              "      <td>Extremely accurate, foolproof postal/shipping ...</td>\n",
              "      <td>1405468800</td>\n",
              "      <td>07 16, 2014</td>\n",
              "    </tr>\n",
              "    <tr>\n",
              "      <th>53256</th>\n",
              "      <td>A1XJOSJN6FHFO0</td>\n",
              "      <td>B00KYA0RC2</td>\n",
              "      <td>Shirley Priscilla  Johnson \"Author/Reviewer -...</td>\n",
              "      <td>[0, 0]</td>\n",
              "      <td>This is a great little scale to have. It can w...</td>\n",
              "      <td>5</td>\n",
              "      <td>Fast, Easy and Accurate</td>\n",
              "      <td>1405814400</td>\n",
              "      <td>07 20, 2014</td>\n",
              "    </tr>\n",
              "    <tr>\n",
              "      <th>53257</th>\n",
              "      <td>AAEVGE52KL0DJ</td>\n",
              "      <td>B00KYA0RC2</td>\n",
              "      <td>Tim</td>\n",
              "      <td>[3, 4]</td>\n",
              "      <td>When asked to review this scale, I almost decl...</td>\n",
              "      <td>4</td>\n",
              "      <td>Great Value on a Good Postal Scale</td>\n",
              "      <td>1404604800</td>\n",
              "      <td>07 6, 2014</td>\n",
              "    </tr>\n",
              "  </tbody>\n",
              "</table>\n",
              "<p>53258 rows × 9 columns</p>\n",
              "</div>"
            ],
            "text/plain": [
              "           reviewerID        asin  ... unixReviewTime   reviewTime\n",
              "0      A32T2H8150OJLU  B00000JBLH  ...     1094169600   09 3, 2004\n",
              "1      A3MAFS04ZABRGO  B00000JBLH  ...     1197676800  12 15, 2007\n",
              "2      A1F1A0QQP2XVH5  B00000JBLH  ...     1293840000   01 1, 2011\n",
              "3       A49R5DBXXQDE5  B00000JBLH  ...     1145404800  04 19, 2006\n",
              "4      A2XRMQA6PJ5ZJ8  B00000JBLH  ...     1375574400   08 4, 2013\n",
              "...               ...         ...  ...            ...          ...\n",
              "53253  A1ODOGXEYECQQ8  B00KYA0RC2  ...     1405555200  07 17, 2014\n",
              "53254  A2XX2A4OJCDNLZ  B00KYA0RC2  ...     1405296000  07 14, 2014\n",
              "53255  A3LGT6UZL99IW1  B00KYA0RC2  ...     1405468800  07 16, 2014\n",
              "53256  A1XJOSJN6FHFO0  B00KYA0RC2  ...     1405814400  07 20, 2014\n",
              "53257   AAEVGE52KL0DJ  B00KYA0RC2  ...     1404604800   07 6, 2014\n",
              "\n",
              "[53258 rows x 9 columns]"
            ]
          },
          "metadata": {
            "tags": []
          },
          "execution_count": 2
        }
      ]
    },
    {
      "cell_type": "code",
      "metadata": {
        "id": "g2MKA_mrxGeG",
        "colab_type": "code",
        "outputId": "c80405bb-135d-47c3-f19d-064e9fdb21e2",
        "colab": {
          "base_uri": "https://localhost:8080/",
          "height": 218
        }
      },
      "source": [
        "data['reviewText']"
      ],
      "execution_count": 0,
      "outputs": [
        {
          "output_type": "execute_result",
          "data": {
            "text/plain": [
              "0        I bought my first HP12C in about 1984 or so, a...\n",
              "1        WHY THIS BELATED REVIEW? I feel very obliged t...\n",
              "2        I have an HP 48GX that has been kicking for mo...\n",
              "3        I've started doing more finance stuff recently...\n",
              "4        For simple calculations and discounted cash fl...\n",
              "                               ...                        \n",
              "53253    What I like about this scale is you can power ...\n",
              "53254    This Accuteck ShipPro digital scale works very...\n",
              "53255    I ship a lot of stuff.  I sell small parts, ma...\n",
              "53256    This is a great little scale to have. It can w...\n",
              "53257    When asked to review this scale, I almost decl...\n",
              "Name: reviewText, Length: 53258, dtype: object"
            ]
          },
          "metadata": {
            "tags": []
          },
          "execution_count": 3
        }
      ]
    },
    {
      "cell_type": "code",
      "metadata": {
        "id": "ZspwAUFnxLi8",
        "colab_type": "code",
        "colab": {}
      },
      "source": [
        "import re"
      ],
      "execution_count": 0,
      "outputs": []
    },
    {
      "cell_type": "code",
      "metadata": {
        "id": "zcejd4B0xUr5",
        "colab_type": "code",
        "colab": {}
      },
      "source": [
        "a=[]"
      ],
      "execution_count": 0,
      "outputs": []
    },
    {
      "cell_type": "code",
      "metadata": {
        "id": "3r4oEIPpxWt9",
        "colab_type": "code",
        "colab": {}
      },
      "source": [
        "def start_end(string):\n",
        "  string=re.sub('[^a-zA-Z]',' ',string)\n",
        "  list1=re.findall(\"\\w+[Gg]\", string)\n",
        "  list2=re.findall(\"[Bb]\\w+\", string)\n",
        "  return(list(set().union(list1,list2)))\n",
        "  "
      ],
      "execution_count": 0,
      "outputs": []
    },
    {
      "cell_type": "code",
      "metadata": {
        "id": "fYVqubNpx0hm",
        "colab_type": "code",
        "colab": {}
      },
      "source": [
        "data['rev_txt_bg']=data.reviewText.apply(start_end)\n",
        "data['summary_bg']=data.summary.apply(start_end)"
      ],
      "execution_count": 0,
      "outputs": []
    },
    {
      "cell_type": "code",
      "metadata": {
        "id": "0LaJfizyyJPn",
        "colab_type": "code",
        "colab": {}
      },
      "source": [
        ""
      ],
      "execution_count": 0,
      "outputs": []
    },
    {
      "cell_type": "code",
      "metadata": {
        "id": "ydp0LDYoyutk",
        "colab_type": "code",
        "colab": {}
      },
      "source": [
        "data.drop(['not_b_g'],1,inplace=True)"
      ],
      "execution_count": 0,
      "outputs": []
    },
    {
      "cell_type": "code",
      "metadata": {
        "id": "0wsox-0t0vS_",
        "colab_type": "code",
        "outputId": "91b66883-da95-4ca7-8b99-2dee423cb4b4",
        "colab": {
          "base_uri": "https://localhost:8080/",
          "height": 363
        }
      },
      "source": [
        "data.head()"
      ],
      "execution_count": 68,
      "outputs": [
        {
          "output_type": "execute_result",
          "data": {
            "text/html": [
              "<div>\n",
              "<style scoped>\n",
              "    .dataframe tbody tr th:only-of-type {\n",
              "        vertical-align: middle;\n",
              "    }\n",
              "\n",
              "    .dataframe tbody tr th {\n",
              "        vertical-align: top;\n",
              "    }\n",
              "\n",
              "    .dataframe thead th {\n",
              "        text-align: right;\n",
              "    }\n",
              "</style>\n",
              "<table border=\"1\" class=\"dataframe\">\n",
              "  <thead>\n",
              "    <tr style=\"text-align: right;\">\n",
              "      <th></th>\n",
              "      <th>reviewerID</th>\n",
              "      <th>asin</th>\n",
              "      <th>reviewerName</th>\n",
              "      <th>helpful</th>\n",
              "      <th>reviewText</th>\n",
              "      <th>overall</th>\n",
              "      <th>summary</th>\n",
              "      <th>unixReviewTime</th>\n",
              "      <th>reviewTime</th>\n",
              "      <th>rev_txt_bg</th>\n",
              "      <th>summary_bg</th>\n",
              "      <th>not_b_g</th>\n",
              "    </tr>\n",
              "  </thead>\n",
              "  <tbody>\n",
              "    <tr>\n",
              "      <th>0</th>\n",
              "      <td>A32T2H8150OJLU</td>\n",
              "      <td>B00000JBLH</td>\n",
              "      <td>ARH</td>\n",
              "      <td>[3, 4]</td>\n",
              "      <td>I bought my first HP12C in about 1984 or so, a...</td>\n",
              "      <td>5</td>\n",
              "      <td>A solid performer, and long time friend</td>\n",
              "      <td>1094169600</td>\n",
              "      <td>09 3, 2004</td>\n",
              "      <td>[using, flag, bout, business, back, bought, bu...</td>\n",
              "      <td>[long]</td>\n",
              "      <td>[]</td>\n",
              "    </tr>\n",
              "    <tr>\n",
              "      <th>1</th>\n",
              "      <td>A3MAFS04ZABRGO</td>\n",
              "      <td>B00000JBLH</td>\n",
              "      <td>Let it Be \"Alan\"</td>\n",
              "      <td>[7, 9]</td>\n",
              "      <td>WHY THIS BELATED REVIEW? I feel very obliged t...</td>\n",
              "      <td>5</td>\n",
              "      <td>Price of GOLD is up, so don't bury the golden ...</td>\n",
              "      <td>1197676800</td>\n",
              "      <td>12 15, 2007</td>\n",
              "      <td>[bout, selling, log, amusing, bearer, bt, BROK...</td>\n",
              "      <td>[flag, bury]</td>\n",
              "      <td>[]</td>\n",
              "    </tr>\n",
              "    <tr>\n",
              "      <th>2</th>\n",
              "      <td>A1F1A0QQP2XVH5</td>\n",
              "      <td>B00000JBLH</td>\n",
              "      <td>Mark B</td>\n",
              "      <td>[3, 3]</td>\n",
              "      <td>I have an HP 48GX that has been kicking for mo...</td>\n",
              "      <td>2</td>\n",
              "      <td>Good functionality, but not durable like old HPs</td>\n",
              "      <td>1293840000</td>\n",
              "      <td>01 1, 2011</td>\n",
              "      <td>[lig, bout, But, working, giving, ber, buse, r...</td>\n",
              "      <td>[but, ble]</td>\n",
              "      <td>[]</td>\n",
              "    </tr>\n",
              "    <tr>\n",
              "      <th>3</th>\n",
              "      <td>A49R5DBXXQDE5</td>\n",
              "      <td>B00000JBLH</td>\n",
              "      <td>R. D Johnson</td>\n",
              "      <td>[7, 8]</td>\n",
              "      <td>I've started doing more finance stuff recently...</td>\n",
              "      <td>5</td>\n",
              "      <td>One of the last of an almost extinct species</td>\n",
              "      <td>1145404800</td>\n",
              "      <td>04 19, 2006</td>\n",
              "      <td>[board, Straig, bout, going, buy, bly, bird, t...</td>\n",
              "      <td>[]</td>\n",
              "      <td>[]</td>\n",
              "    </tr>\n",
              "    <tr>\n",
              "      <th>4</th>\n",
              "      <td>A2XRMQA6PJ5ZJ8</td>\n",
              "      <td>B00000JBLH</td>\n",
              "      <td>Roger J. Buffington</td>\n",
              "      <td>[0, 0]</td>\n",
              "      <td>For simple calculations and discounted cash fl...</td>\n",
              "      <td>5</td>\n",
              "      <td>Still the best</td>\n",
              "      <td>1375574400</td>\n",
              "      <td>08 4, 2013</td>\n",
              "      <td>[brackets, business, practicing, but, prog, pu...</td>\n",
              "      <td>[best]</td>\n",
              "      <td>[]</td>\n",
              "    </tr>\n",
              "  </tbody>\n",
              "</table>\n",
              "</div>"
            ],
            "text/plain": [
              "       reviewerID        asin  ...    summary_bg not_b_g\n",
              "0  A32T2H8150OJLU  B00000JBLH  ...        [long]      []\n",
              "1  A3MAFS04ZABRGO  B00000JBLH  ...  [flag, bury]      []\n",
              "2  A1F1A0QQP2XVH5  B00000JBLH  ...    [but, ble]      []\n",
              "3   A49R5DBXXQDE5  B00000JBLH  ...            []      []\n",
              "4  A2XRMQA6PJ5ZJ8  B00000JBLH  ...        [best]      []\n",
              "\n",
              "[5 rows x 12 columns]"
            ]
          },
          "metadata": {
            "tags": []
          },
          "execution_count": 68
        }
      ]
    },
    {
      "cell_type": "code",
      "metadata": {
        "id": "vJI3sgpX6CK5",
        "colab_type": "code",
        "colab": {}
      },
      "source": [
        "def splitr(m):\n",
        "  return list(m)"
      ],
      "execution_count": 0,
      "outputs": []
    },
    {
      "cell_type": "code",
      "metadata": {
        "id": "kGLlCS6OIMEY",
        "colab_type": "code",
        "colab": {}
      },
      "source": [
        "vowel=['a','e','i','o','u']\n",
        "def counter(text):\n",
        "  counter = {\"vowel\":0,\"consonant\":0,\"totcount\":0}\n",
        "  for word in text:\n",
        "    wordrs = splitr(word)\n",
        "    for wordr in wordrs:\n",
        "      if wordr in vowel:\n",
        "        counter[\"vowel\"]+=1\n",
        "      else:\n",
        "        counter[\"consonant\"]+=1\n",
        "      counter['totcount']+=1\n",
        "  return counter\n"
      ],
      "execution_count": 0,
      "outputs": []
    },
    {
      "cell_type": "code",
      "metadata": {
        "id": "84I3Nt9vIQor",
        "colab_type": "code",
        "colab": {}
      },
      "source": [
        "data['revtxt_vc']=data['reviewText'].apply(lambda x:counter(x))"
      ],
      "execution_count": 0,
      "outputs": []
    },
    {
      "cell_type": "code",
      "metadata": {
        "id": "WHQ2ekJYIUi3",
        "colab_type": "code",
        "colab": {
          "base_uri": "https://localhost:8080/",
          "height": 582
        },
        "outputId": "5e3d4987-9e29-43c9-f170-87322b260ee0"
      },
      "source": [
        "data.head()"
      ],
      "execution_count": 75,
      "outputs": [
        {
          "output_type": "execute_result",
          "data": {
            "text/html": [
              "<div>\n",
              "<style scoped>\n",
              "    .dataframe tbody tr th:only-of-type {\n",
              "        vertical-align: middle;\n",
              "    }\n",
              "\n",
              "    .dataframe tbody tr th {\n",
              "        vertical-align: top;\n",
              "    }\n",
              "\n",
              "    .dataframe thead th {\n",
              "        text-align: right;\n",
              "    }\n",
              "</style>\n",
              "<table border=\"1\" class=\"dataframe\">\n",
              "  <thead>\n",
              "    <tr style=\"text-align: right;\">\n",
              "      <th></th>\n",
              "      <th>reviewerID</th>\n",
              "      <th>asin</th>\n",
              "      <th>reviewerName</th>\n",
              "      <th>helpful</th>\n",
              "      <th>reviewText</th>\n",
              "      <th>overall</th>\n",
              "      <th>summary</th>\n",
              "      <th>unixReviewTime</th>\n",
              "      <th>reviewTime</th>\n",
              "      <th>rev_txt_bg</th>\n",
              "      <th>summary_bg</th>\n",
              "      <th>revtxt_vc</th>\n",
              "    </tr>\n",
              "  </thead>\n",
              "  <tbody>\n",
              "    <tr>\n",
              "      <th>0</th>\n",
              "      <td>A32T2H8150OJLU</td>\n",
              "      <td>B00000JBLH</td>\n",
              "      <td>ARH</td>\n",
              "      <td>[3, 4]</td>\n",
              "      <td>I bought my first HP12C in about 1984 or so, a...</td>\n",
              "      <td>5</td>\n",
              "      <td>A solid performer, and long time friend</td>\n",
              "      <td>1094169600</td>\n",
              "      <td>09 3, 2004</td>\n",
              "      <td>[using, flag, bout, business, back, bought, bu...</td>\n",
              "      <td>[long]</td>\n",
              "      <td>{'vowel': 267, 'consonant': 705, 'totcount': 972}</td>\n",
              "    </tr>\n",
              "    <tr>\n",
              "      <th>1</th>\n",
              "      <td>A3MAFS04ZABRGO</td>\n",
              "      <td>B00000JBLH</td>\n",
              "      <td>Let it Be \"Alan\"</td>\n",
              "      <td>[7, 9]</td>\n",
              "      <td>WHY THIS BELATED REVIEW? I feel very obliged t...</td>\n",
              "      <td>5</td>\n",
              "      <td>Price of GOLD is up, so don't bury the golden ...</td>\n",
              "      <td>1197676800</td>\n",
              "      <td>12 15, 2007</td>\n",
              "      <td>[bout, selling, log, amusing, bearer, bt, BROK...</td>\n",
              "      <td>[flag, bury]</td>\n",
              "      <td>{'vowel': 1318, 'consonant': 4037, 'totcount':...</td>\n",
              "    </tr>\n",
              "    <tr>\n",
              "      <th>2</th>\n",
              "      <td>A1F1A0QQP2XVH5</td>\n",
              "      <td>B00000JBLH</td>\n",
              "      <td>Mark B</td>\n",
              "      <td>[3, 3]</td>\n",
              "      <td>I have an HP 48GX that has been kicking for mo...</td>\n",
              "      <td>2</td>\n",
              "      <td>Good functionality, but not durable like old HPs</td>\n",
              "      <td>1293840000</td>\n",
              "      <td>01 1, 2011</td>\n",
              "      <td>[lig, bout, But, working, giving, ber, buse, r...</td>\n",
              "      <td>[but, ble]</td>\n",
              "      <td>{'vowel': 132, 'consonant': 363, 'totcount': 495}</td>\n",
              "    </tr>\n",
              "    <tr>\n",
              "      <th>3</th>\n",
              "      <td>A49R5DBXXQDE5</td>\n",
              "      <td>B00000JBLH</td>\n",
              "      <td>R. D Johnson</td>\n",
              "      <td>[7, 8]</td>\n",
              "      <td>I've started doing more finance stuff recently...</td>\n",
              "      <td>5</td>\n",
              "      <td>One of the last of an almost extinct species</td>\n",
              "      <td>1145404800</td>\n",
              "      <td>04 19, 2006</td>\n",
              "      <td>[board, Straig, bout, going, buy, bly, bird, t...</td>\n",
              "      <td>[]</td>\n",
              "      <td>{'vowel': 1049, 'consonant': 2599, 'totcount':...</td>\n",
              "    </tr>\n",
              "    <tr>\n",
              "      <th>4</th>\n",
              "      <td>A2XRMQA6PJ5ZJ8</td>\n",
              "      <td>B00000JBLH</td>\n",
              "      <td>Roger J. Buffington</td>\n",
              "      <td>[0, 0]</td>\n",
              "      <td>For simple calculations and discounted cash fl...</td>\n",
              "      <td>5</td>\n",
              "      <td>Still the best</td>\n",
              "      <td>1375574400</td>\n",
              "      <td>08 4, 2013</td>\n",
              "      <td>[brackets, business, practicing, but, prog, pu...</td>\n",
              "      <td>[best]</td>\n",
              "      <td>{'vowel': 200, 'consonant': 504, 'totcount': 704}</td>\n",
              "    </tr>\n",
              "  </tbody>\n",
              "</table>\n",
              "</div>"
            ],
            "text/plain": [
              "       reviewerID  ...                                          revtxt_vc\n",
              "0  A32T2H8150OJLU  ...  {'vowel': 267, 'consonant': 705, 'totcount': 972}\n",
              "1  A3MAFS04ZABRGO  ...  {'vowel': 1318, 'consonant': 4037, 'totcount':...\n",
              "2  A1F1A0QQP2XVH5  ...  {'vowel': 132, 'consonant': 363, 'totcount': 495}\n",
              "3   A49R5DBXXQDE5  ...  {'vowel': 1049, 'consonant': 2599, 'totcount':...\n",
              "4  A2XRMQA6PJ5ZJ8  ...  {'vowel': 200, 'consonant': 504, 'totcount': 704}\n",
              "\n",
              "[5 rows x 12 columns]"
            ]
          },
          "metadata": {
            "tags": []
          },
          "execution_count": 75
        }
      ]
    },
    {
      "cell_type": "code",
      "metadata": {
        "id": "WXZyV-R4IlOT",
        "colab_type": "code",
        "colab": {}
      },
      "source": [
        ""
      ],
      "execution_count": 0,
      "outputs": []
    }
  ]
}