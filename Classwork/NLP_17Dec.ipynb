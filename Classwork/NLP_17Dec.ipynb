{
  "nbformat": 4,
  "nbformat_minor": 0,
  "metadata": {
    "colab": {
      "name": "NLP_17Dec.ipynb",
      "provenance": [],
      "collapsed_sections": []
    },
    "kernelspec": {
      "name": "python3",
      "display_name": "Python 3"
    },
    "accelerator": "GPU"
  },
  "cells": [
    {
      "cell_type": "code",
      "metadata": {
        "id": "ZFZ5-oWT4GqK",
        "colab_type": "code",
        "colab": {}
      },
      "source": [
        "\n",
        "import pandas as pd\n",
        "\n",
        "from textblob import TextBlob\n",
        "from nltk import sentiment\n",
        "from sklearn.metrics import confusion_matrix,accuracy_score"
      ],
      "execution_count": 0,
      "outputs": []
    },
    {
      "cell_type": "code",
      "metadata": {
        "id": "nZ5dfmAX4OtT",
        "colab_type": "code",
        "outputId": "61a37fc2-ccf6-4c48-9475-0cc68be6368c",
        "colab": {
          "base_uri": "https://localhost:8080/",
          "height": 419
        }
      },
      "source": [
        "data=pd.read_json('http://snap.stanford.edu/data/amazon/productGraph/categoryFiles/reviews_Office_Products_5.json.gz',lines=True)\n",
        "df = pd.read_csv(\"https://raw.githubusercontent.com/zfz/twitter_corpus/master/full-corpus.csv\",error_bad_lines=False)\n",
        "\n",
        "\n",
        "\n",
        "data\n",
        "df\n"
      ],
      "execution_count": 0,
      "outputs": [
        {
          "output_type": "execute_result",
          "data": {
            "text/html": [
              "<div>\n",
              "<style scoped>\n",
              "    .dataframe tbody tr th:only-of-type {\n",
              "        vertical-align: middle;\n",
              "    }\n",
              "\n",
              "    .dataframe tbody tr th {\n",
              "        vertical-align: top;\n",
              "    }\n",
              "\n",
              "    .dataframe thead th {\n",
              "        text-align: right;\n",
              "    }\n",
              "</style>\n",
              "<table border=\"1\" class=\"dataframe\">\n",
              "  <thead>\n",
              "    <tr style=\"text-align: right;\">\n",
              "      <th></th>\n",
              "      <th>Topic</th>\n",
              "      <th>Sentiment</th>\n",
              "      <th>TweetId</th>\n",
              "      <th>TweetDate</th>\n",
              "      <th>TweetText</th>\n",
              "    </tr>\n",
              "  </thead>\n",
              "  <tbody>\n",
              "    <tr>\n",
              "      <th>0</th>\n",
              "      <td>apple</td>\n",
              "      <td>positive</td>\n",
              "      <td>126415614616154112</td>\n",
              "      <td>Tue Oct 18 21:53:25 +0000 2011</td>\n",
              "      <td>Now all @Apple has to do is get swype on the i...</td>\n",
              "    </tr>\n",
              "    <tr>\n",
              "      <th>1</th>\n",
              "      <td>apple</td>\n",
              "      <td>positive</td>\n",
              "      <td>126404574230740992</td>\n",
              "      <td>Tue Oct 18 21:09:33 +0000 2011</td>\n",
              "      <td>@Apple will be adding more carrier support to ...</td>\n",
              "    </tr>\n",
              "    <tr>\n",
              "      <th>2</th>\n",
              "      <td>apple</td>\n",
              "      <td>positive</td>\n",
              "      <td>126402758403305474</td>\n",
              "      <td>Tue Oct 18 21:02:20 +0000 2011</td>\n",
              "      <td>Hilarious @youtube video - guy does a duet wit...</td>\n",
              "    </tr>\n",
              "    <tr>\n",
              "      <th>3</th>\n",
              "      <td>apple</td>\n",
              "      <td>positive</td>\n",
              "      <td>126397179614068736</td>\n",
              "      <td>Tue Oct 18 20:40:10 +0000 2011</td>\n",
              "      <td>@RIM you made it too easy for me to switch to ...</td>\n",
              "    </tr>\n",
              "    <tr>\n",
              "      <th>4</th>\n",
              "      <td>apple</td>\n",
              "      <td>positive</td>\n",
              "      <td>126395626979196928</td>\n",
              "      <td>Tue Oct 18 20:34:00 +0000 2011</td>\n",
              "      <td>I just realized that the reason I got into twi...</td>\n",
              "    </tr>\n",
              "    <tr>\n",
              "      <th>...</th>\n",
              "      <td>...</td>\n",
              "      <td>...</td>\n",
              "      <td>...</td>\n",
              "      <td>...</td>\n",
              "      <td>...</td>\n",
              "    </tr>\n",
              "    <tr>\n",
              "      <th>5108</th>\n",
              "      <td>twitter</td>\n",
              "      <td>irrelevant</td>\n",
              "      <td>126855687060987904</td>\n",
              "      <td>Thu Oct 20 03:02:07 +0000 2011</td>\n",
              "      <td>me re copè con #twitter</td>\n",
              "    </tr>\n",
              "    <tr>\n",
              "      <th>5109</th>\n",
              "      <td>twitter</td>\n",
              "      <td>irrelevant</td>\n",
              "      <td>126855171702661120</td>\n",
              "      <td>Thu Oct 20 03:00:04 +0000 2011</td>\n",
              "      <td>Buenas noches genteeee :) #twitter los quieroo...</td>\n",
              "    </tr>\n",
              "    <tr>\n",
              "      <th>5110</th>\n",
              "      <td>twitter</td>\n",
              "      <td>irrelevant</td>\n",
              "      <td>126854999442587648</td>\n",
              "      <td>Thu Oct 20 02:59:23 +0000 2011</td>\n",
              "      <td>#twitter tiene la mala costumbre de ponerce bn...</td>\n",
              "    </tr>\n",
              "    <tr>\n",
              "      <th>5111</th>\n",
              "      <td>twitter</td>\n",
              "      <td>irrelevant</td>\n",
              "      <td>126854818101858304</td>\n",
              "      <td>Thu Oct 20 02:58:40 +0000 2011</td>\n",
              "      <td>Oi @flaviasansi. Muito bem vinda ao meu #Twitt...</td>\n",
              "    </tr>\n",
              "    <tr>\n",
              "      <th>5112</th>\n",
              "      <td>twitter</td>\n",
              "      <td>irrelevant</td>\n",
              "      <td>126854423317188608</td>\n",
              "      <td>Thu Oct 20 02:57:06 +0000 2011</td>\n",
              "      <td>Eles arrastaram os barcos para a praia, deixar...</td>\n",
              "    </tr>\n",
              "  </tbody>\n",
              "</table>\n",
              "<p>5113 rows × 5 columns</p>\n",
              "</div>"
            ],
            "text/plain": [
              "        Topic  ...                                          TweetText\n",
              "0       apple  ...  Now all @Apple has to do is get swype on the i...\n",
              "1       apple  ...  @Apple will be adding more carrier support to ...\n",
              "2       apple  ...  Hilarious @youtube video - guy does a duet wit...\n",
              "3       apple  ...  @RIM you made it too easy for me to switch to ...\n",
              "4       apple  ...  I just realized that the reason I got into twi...\n",
              "...       ...  ...                                                ...\n",
              "5108  twitter  ...                            me re copè con #twitter\n",
              "5109  twitter  ...  Buenas noches genteeee :) #twitter los quieroo...\n",
              "5110  twitter  ...  #twitter tiene la mala costumbre de ponerce bn...\n",
              "5111  twitter  ...  Oi @flaviasansi. Muito bem vinda ao meu #Twitt...\n",
              "5112  twitter  ...  Eles arrastaram os barcos para a praia, deixar...\n",
              "\n",
              "[5113 rows x 5 columns]"
            ]
          },
          "metadata": {
            "tags": []
          },
          "execution_count": 3
        }
      ]
    },
    {
      "cell_type": "code",
      "metadata": {
        "id": "PCzLuuk5Uhhy",
        "colab_type": "code",
        "outputId": "d0c00b6c-d6d6-4046-8099-0a0434602fc8",
        "colab": {
          "base_uri": "https://localhost:8080/",
          "height": 85
        }
      },
      "source": [
        "df=df[df['Sentiment']!='irrelevant']\n",
        "df['Sentiment'].value_counts()"
      ],
      "execution_count": 0,
      "outputs": [
        {
          "output_type": "execute_result",
          "data": {
            "text/plain": [
              "neutral     2333\n",
              "negative     572\n",
              "positive     519\n",
              "Name: Sentiment, dtype: int64"
            ]
          },
          "metadata": {
            "tags": []
          },
          "execution_count": 74
        }
      ]
    },
    {
      "cell_type": "code",
      "metadata": {
        "id": "3U3Koowp4I0N",
        "colab_type": "code",
        "colab": {}
      },
      "source": [
        "import nltk,re"
      ],
      "execution_count": 0,
      "outputs": []
    },
    {
      "cell_type": "code",
      "metadata": {
        "id": "XqpZAurC4Kk4",
        "colab_type": "code",
        "colab": {}
      },
      "source": [
        "# from nltk import sentiment"
      ],
      "execution_count": 0,
      "outputs": []
    },
    {
      "cell_type": "code",
      "metadata": {
        "id": "v3sspKgM4soV",
        "colab_type": "code",
        "colab": {}
      },
      "source": [
        "sent=data['reviewText'][0]"
      ],
      "execution_count": 0,
      "outputs": []
    },
    {
      "cell_type": "code",
      "metadata": {
        "id": "2gWqCTpt5P3K",
        "colab_type": "code",
        "colab": {}
      },
      "source": [
        "def txt_blob(text):\n",
        "  txt_blob=TextBlob(text).sentiment\n",
        "  polarity=txt_blob.polarity\n",
        "  if polarity==0:\n",
        "    return \"neutral\"\n",
        "  elif polarity>0:\n",
        "    return \"positive\"\n",
        "  else:\n",
        "    return \"negative\"\n"
      ],
      "execution_count": 0,
      "outputs": []
    },
    {
      "cell_type": "code",
      "metadata": {
        "id": "RjXlm6TVOD5k",
        "colab_type": "code",
        "outputId": "387e91b1-fa20-4cc7-bb89-6e6a3717b3f1",
        "colab": {
          "base_uri": "https://localhost:8080/",
          "height": 289
        }
      },
      "source": [
        "data['txt_blob_senti']=data.reviewText.apply(txt_blob)\n",
        "data.head()"
      ],
      "execution_count": 0,
      "outputs": [
        {
          "output_type": "execute_result",
          "data": {
            "text/html": [
              "<div>\n",
              "<style scoped>\n",
              "    .dataframe tbody tr th:only-of-type {\n",
              "        vertical-align: middle;\n",
              "    }\n",
              "\n",
              "    .dataframe tbody tr th {\n",
              "        vertical-align: top;\n",
              "    }\n",
              "\n",
              "    .dataframe thead th {\n",
              "        text-align: right;\n",
              "    }\n",
              "</style>\n",
              "<table border=\"1\" class=\"dataframe\">\n",
              "  <thead>\n",
              "    <tr style=\"text-align: right;\">\n",
              "      <th></th>\n",
              "      <th>reviewerID</th>\n",
              "      <th>asin</th>\n",
              "      <th>reviewerName</th>\n",
              "      <th>helpful</th>\n",
              "      <th>reviewText</th>\n",
              "      <th>overall</th>\n",
              "      <th>summary</th>\n",
              "      <th>unixReviewTime</th>\n",
              "      <th>reviewTime</th>\n",
              "      <th>sent_dict</th>\n",
              "      <th>max_sent</th>\n",
              "      <th>txt_blob_senti</th>\n",
              "    </tr>\n",
              "  </thead>\n",
              "  <tbody>\n",
              "    <tr>\n",
              "      <th>0</th>\n",
              "      <td>A32T2H8150OJLU</td>\n",
              "      <td>B00000JBLH</td>\n",
              "      <td>ARH</td>\n",
              "      <td>[3, 4]</td>\n",
              "      <td>I bought my first HP12C in about 1984 or so, a...</td>\n",
              "      <td>5</td>\n",
              "      <td>A solid performer, and long time friend</td>\n",
              "      <td>1094169600</td>\n",
              "      <td>09 3, 2004</td>\n",
              "      <td>{'neg': 0.039, 'neu': 0.781, 'pos': 0.18, 'com...</td>\n",
              "      <td>compound</td>\n",
              "      <td>positive</td>\n",
              "    </tr>\n",
              "    <tr>\n",
              "      <th>1</th>\n",
              "      <td>A3MAFS04ZABRGO</td>\n",
              "      <td>B00000JBLH</td>\n",
              "      <td>Let it Be \"Alan\"</td>\n",
              "      <td>[7, 9]</td>\n",
              "      <td>WHY THIS BELATED REVIEW? I feel very obliged t...</td>\n",
              "      <td>5</td>\n",
              "      <td>Price of GOLD is up, so don't bury the golden ...</td>\n",
              "      <td>1197676800</td>\n",
              "      <td>12 15, 2007</td>\n",
              "      <td>{'neg': 0.029, 'neu': 0.872, 'pos': 0.099, 'co...</td>\n",
              "      <td>compound</td>\n",
              "      <td>positive</td>\n",
              "    </tr>\n",
              "    <tr>\n",
              "      <th>2</th>\n",
              "      <td>A1F1A0QQP2XVH5</td>\n",
              "      <td>B00000JBLH</td>\n",
              "      <td>Mark B</td>\n",
              "      <td>[3, 3]</td>\n",
              "      <td>I have an HP 48GX that has been kicking for mo...</td>\n",
              "      <td>2</td>\n",
              "      <td>Good functionality, but not durable like old HPs</td>\n",
              "      <td>1293840000</td>\n",
              "      <td>01 1, 2011</td>\n",
              "      <td>{'neg': 0.154, 'neu': 0.72, 'pos': 0.126, 'com...</td>\n",
              "      <td>neu</td>\n",
              "      <td>positive</td>\n",
              "    </tr>\n",
              "    <tr>\n",
              "      <th>3</th>\n",
              "      <td>A49R5DBXXQDE5</td>\n",
              "      <td>B00000JBLH</td>\n",
              "      <td>R. D Johnson</td>\n",
              "      <td>[7, 8]</td>\n",
              "      <td>I've started doing more finance stuff recently...</td>\n",
              "      <td>5</td>\n",
              "      <td>One of the last of an almost extinct species</td>\n",
              "      <td>1145404800</td>\n",
              "      <td>04 19, 2006</td>\n",
              "      <td>{'neg': 0.036, 'neu': 0.814, 'pos': 0.151, 'co...</td>\n",
              "      <td>compound</td>\n",
              "      <td>positive</td>\n",
              "    </tr>\n",
              "    <tr>\n",
              "      <th>4</th>\n",
              "      <td>A2XRMQA6PJ5ZJ8</td>\n",
              "      <td>B00000JBLH</td>\n",
              "      <td>Roger J. Buffington</td>\n",
              "      <td>[0, 0]</td>\n",
              "      <td>For simple calculations and discounted cash fl...</td>\n",
              "      <td>5</td>\n",
              "      <td>Still the best</td>\n",
              "      <td>1375574400</td>\n",
              "      <td>08 4, 2013</td>\n",
              "      <td>{'neg': 0.022, 'neu': 0.823, 'pos': 0.154, 'co...</td>\n",
              "      <td>compound</td>\n",
              "      <td>positive</td>\n",
              "    </tr>\n",
              "  </tbody>\n",
              "</table>\n",
              "</div>"
            ],
            "text/plain": [
              "       reviewerID        asin  ...  max_sent txt_blob_senti\n",
              "0  A32T2H8150OJLU  B00000JBLH  ...  compound       positive\n",
              "1  A3MAFS04ZABRGO  B00000JBLH  ...  compound       positive\n",
              "2  A1F1A0QQP2XVH5  B00000JBLH  ...       neu       positive\n",
              "3   A49R5DBXXQDE5  B00000JBLH  ...  compound       positive\n",
              "4  A2XRMQA6PJ5ZJ8  B00000JBLH  ...  compound       positive\n",
              "\n",
              "[5 rows x 12 columns]"
            ]
          },
          "metadata": {
            "tags": []
          },
          "execution_count": 61
        }
      ]
    },
    {
      "cell_type": "code",
      "metadata": {
        "id": "JIip_iqH8Huy",
        "colab_type": "code",
        "outputId": "365fb4ae-4b18-41c1-804f-d6b6e5a195d6",
        "colab": {
          "base_uri": "https://localhost:8080/",
          "height": 238
        }
      },
      "source": [
        "nltk.download('punkt')\n",
        "nltk.download('wordnet')\n",
        "nltk.download('averaged_perceptron_tagger')\n",
        "nltk.download('brown')\n",
        "nltk.download('vader_lexicon')"
      ],
      "execution_count": 0,
      "outputs": [
        {
          "output_type": "stream",
          "text": [
            "[nltk_data] Downloading package punkt to /root/nltk_data...\n",
            "[nltk_data]   Package punkt is already up-to-date!\n",
            "[nltk_data] Downloading package wordnet to /root/nltk_data...\n",
            "[nltk_data]   Package wordnet is already up-to-date!\n",
            "[nltk_data] Downloading package averaged_perceptron_tagger to\n",
            "[nltk_data]     /root/nltk_data...\n",
            "[nltk_data]   Package averaged_perceptron_tagger is already up-to-\n",
            "[nltk_data]       date!\n",
            "[nltk_data] Downloading package brown to /root/nltk_data...\n",
            "[nltk_data]   Package brown is already up-to-date!\n",
            "[nltk_data] Downloading package vader_lexicon to /root/nltk_data...\n",
            "[nltk_data]   Package vader_lexicon is already up-to-date!\n"
          ],
          "name": "stdout"
        },
        {
          "output_type": "execute_result",
          "data": {
            "text/plain": [
              "True"
            ]
          },
          "metadata": {
            "tags": []
          },
          "execution_count": 62
        }
      ]
    },
    {
      "cell_type": "code",
      "metadata": {
        "id": "nprsk1if5x7K",
        "colab_type": "code",
        "colab": {}
      },
      "source": [
        "\n",
        "# sent =data['reviewText'][0]\n",
        "# blob(sent)\n",
        "sid=sentiment.vader.SentimentIntensityAnalyzer()"
      ],
      "execution_count": 0,
      "outputs": []
    },
    {
      "cell_type": "code",
      "metadata": {
        "id": "U1DcuHv7QRIG",
        "colab_type": "code",
        "colab": {}
      },
      "source": [
        "def sent_classifier(text):\n",
        "  sid\n",
        "  pol_score = sid.polarity_scores(text)\n",
        "  if pol_score['compound'] >= 0.05:\n",
        "    return \"positive\"\n",
        "  elif pol_score['compound'] <= -0.05:\n",
        "    return \"negative\"\n",
        "  else:\n",
        "    return \"neutral\""
      ],
      "execution_count": 0,
      "outputs": []
    },
    {
      "cell_type": "code",
      "metadata": {
        "id": "kaA5rFUjW031",
        "colab_type": "code",
        "colab": {}
      },
      "source": [
        ""
      ],
      "execution_count": 0,
      "outputs": []
    },
    {
      "cell_type": "code",
      "metadata": {
        "id": "MsIlX-kmWApc",
        "colab_type": "code",
        "colab": {}
      },
      "source": [
        "data['sent_SIA']=data.reviewText.apply(sent_classifier)"
      ],
      "execution_count": 0,
      "outputs": []
    },
    {
      "cell_type": "code",
      "metadata": {
        "id": "H37n792hX4se",
        "colab_type": "code",
        "colab": {}
      },
      "source": [
        ""
      ],
      "execution_count": 0,
      "outputs": []
    },
    {
      "cell_type": "code",
      "metadata": {
        "id": "m7BsFtLqW2a6",
        "colab_type": "code",
        "outputId": "16e62d4c-e612-4b0b-b211-81df085f4052",
        "colab": {
          "base_uri": "https://localhost:8080/",
          "height": 289
        }
      },
      "source": [
        "data.head()"
      ],
      "execution_count": 0,
      "outputs": [
        {
          "output_type": "execute_result",
          "data": {
            "text/html": [
              "<div>\n",
              "<style scoped>\n",
              "    .dataframe tbody tr th:only-of-type {\n",
              "        vertical-align: middle;\n",
              "    }\n",
              "\n",
              "    .dataframe tbody tr th {\n",
              "        vertical-align: top;\n",
              "    }\n",
              "\n",
              "    .dataframe thead th {\n",
              "        text-align: right;\n",
              "    }\n",
              "</style>\n",
              "<table border=\"1\" class=\"dataframe\">\n",
              "  <thead>\n",
              "    <tr style=\"text-align: right;\">\n",
              "      <th></th>\n",
              "      <th>reviewerID</th>\n",
              "      <th>asin</th>\n",
              "      <th>reviewerName</th>\n",
              "      <th>helpful</th>\n",
              "      <th>reviewText</th>\n",
              "      <th>overall</th>\n",
              "      <th>summary</th>\n",
              "      <th>unixReviewTime</th>\n",
              "      <th>reviewTime</th>\n",
              "      <th>sent_dict</th>\n",
              "      <th>max_sent</th>\n",
              "      <th>txt_blob_senti</th>\n",
              "      <th>sent_SIA</th>\n",
              "    </tr>\n",
              "  </thead>\n",
              "  <tbody>\n",
              "    <tr>\n",
              "      <th>0</th>\n",
              "      <td>A32T2H8150OJLU</td>\n",
              "      <td>B00000JBLH</td>\n",
              "      <td>ARH</td>\n",
              "      <td>[3, 4]</td>\n",
              "      <td>I bought my first HP12C in about 1984 or so, a...</td>\n",
              "      <td>5</td>\n",
              "      <td>A solid performer, and long time friend</td>\n",
              "      <td>1094169600</td>\n",
              "      <td>09 3, 2004</td>\n",
              "      <td>{'neg': 0.039, 'neu': 0.781, 'pos': 0.18, 'com...</td>\n",
              "      <td>compound</td>\n",
              "      <td>positive</td>\n",
              "      <td>positive</td>\n",
              "    </tr>\n",
              "    <tr>\n",
              "      <th>1</th>\n",
              "      <td>A3MAFS04ZABRGO</td>\n",
              "      <td>B00000JBLH</td>\n",
              "      <td>Let it Be \"Alan\"</td>\n",
              "      <td>[7, 9]</td>\n",
              "      <td>WHY THIS BELATED REVIEW? I feel very obliged t...</td>\n",
              "      <td>5</td>\n",
              "      <td>Price of GOLD is up, so don't bury the golden ...</td>\n",
              "      <td>1197676800</td>\n",
              "      <td>12 15, 2007</td>\n",
              "      <td>{'neg': 0.029, 'neu': 0.872, 'pos': 0.099, 'co...</td>\n",
              "      <td>compound</td>\n",
              "      <td>positive</td>\n",
              "      <td>positive</td>\n",
              "    </tr>\n",
              "    <tr>\n",
              "      <th>2</th>\n",
              "      <td>A1F1A0QQP2XVH5</td>\n",
              "      <td>B00000JBLH</td>\n",
              "      <td>Mark B</td>\n",
              "      <td>[3, 3]</td>\n",
              "      <td>I have an HP 48GX that has been kicking for mo...</td>\n",
              "      <td>2</td>\n",
              "      <td>Good functionality, but not durable like old HPs</td>\n",
              "      <td>1293840000</td>\n",
              "      <td>01 1, 2011</td>\n",
              "      <td>{'neg': 0.154, 'neu': 0.72, 'pos': 0.126, 'com...</td>\n",
              "      <td>neu</td>\n",
              "      <td>positive</td>\n",
              "      <td>negative</td>\n",
              "    </tr>\n",
              "    <tr>\n",
              "      <th>3</th>\n",
              "      <td>A49R5DBXXQDE5</td>\n",
              "      <td>B00000JBLH</td>\n",
              "      <td>R. D Johnson</td>\n",
              "      <td>[7, 8]</td>\n",
              "      <td>I've started doing more finance stuff recently...</td>\n",
              "      <td>5</td>\n",
              "      <td>One of the last of an almost extinct species</td>\n",
              "      <td>1145404800</td>\n",
              "      <td>04 19, 2006</td>\n",
              "      <td>{'neg': 0.036, 'neu': 0.814, 'pos': 0.151, 'co...</td>\n",
              "      <td>compound</td>\n",
              "      <td>positive</td>\n",
              "      <td>positive</td>\n",
              "    </tr>\n",
              "    <tr>\n",
              "      <th>4</th>\n",
              "      <td>A2XRMQA6PJ5ZJ8</td>\n",
              "      <td>B00000JBLH</td>\n",
              "      <td>Roger J. Buffington</td>\n",
              "      <td>[0, 0]</td>\n",
              "      <td>For simple calculations and discounted cash fl...</td>\n",
              "      <td>5</td>\n",
              "      <td>Still the best</td>\n",
              "      <td>1375574400</td>\n",
              "      <td>08 4, 2013</td>\n",
              "      <td>{'neg': 0.022, 'neu': 0.823, 'pos': 0.154, 'co...</td>\n",
              "      <td>compound</td>\n",
              "      <td>positive</td>\n",
              "      <td>positive</td>\n",
              "    </tr>\n",
              "  </tbody>\n",
              "</table>\n",
              "</div>"
            ],
            "text/plain": [
              "       reviewerID        asin  ... txt_blob_senti  sent_SIA\n",
              "0  A32T2H8150OJLU  B00000JBLH  ...       positive  positive\n",
              "1  A3MAFS04ZABRGO  B00000JBLH  ...       positive  positive\n",
              "2  A1F1A0QQP2XVH5  B00000JBLH  ...       positive  negative\n",
              "3   A49R5DBXXQDE5  B00000JBLH  ...       positive  positive\n",
              "4  A2XRMQA6PJ5ZJ8  B00000JBLH  ...       positive  positive\n",
              "\n",
              "[5 rows x 13 columns]"
            ]
          },
          "metadata": {
            "tags": []
          },
          "execution_count": 89
        }
      ]
    },
    {
      "cell_type": "code",
      "metadata": {
        "id": "AjZpagoD63Va",
        "colab_type": "code",
        "outputId": "b86e53f0-35c4-44dc-cc12-b30381f6f253",
        "colab": {
          "base_uri": "https://localhost:8080/",
          "height": 119
        }
      },
      "source": [
        "df['TweetText'].head()"
      ],
      "execution_count": 0,
      "outputs": [
        {
          "output_type": "execute_result",
          "data": {
            "text/plain": [
              "0    Now all @Apple has to do is get swype on the i...\n",
              "1    @Apple will be adding more carrier support to ...\n",
              "2    Hilarious @youtube video - guy does a duet wit...\n",
              "3    @RIM you made it too easy for me to switch to ...\n",
              "4    I just realized that the reason I got into twi...\n",
              "Name: TweetText, dtype: object"
            ]
          },
          "metadata": {
            "tags": []
          },
          "execution_count": 76
        }
      ]
    },
    {
      "cell_type": "code",
      "metadata": {
        "id": "oxHn74ZXBQGS",
        "colab_type": "code",
        "outputId": "9772f6c1-1abc-4466-a268-cee0846d67b5",
        "colab": {
          "base_uri": "https://localhost:8080/",
          "height": 34
        }
      },
      "source": [
        "sent1=df['TweetText'][1]\n",
        "a=sid.polarity_scores(sent1)\n",
        "a"
      ],
      "execution_count": 0,
      "outputs": [
        {
          "output_type": "execute_result",
          "data": {
            "text/plain": [
              "{'compound': 0.4549, 'neg': 0.0, 'neu': 0.801, 'pos': 0.199}"
            ]
          },
          "metadata": {
            "tags": []
          },
          "execution_count": 77
        }
      ]
    },
    {
      "cell_type": "code",
      "metadata": {
        "id": "bcOQIDTbBVLZ",
        "colab_type": "code",
        "colab": {}
      },
      "source": [
        "from sklearn.metrics import confusion_matrix"
      ],
      "execution_count": 0,
      "outputs": []
    },
    {
      "cell_type": "code",
      "metadata": {
        "id": "RdVHvELtBa8T",
        "colab_type": "code",
        "colab": {}
      },
      "source": [
        "df['tweet_sentiments']=df.TweetText.apply(sid.polarity_scores)"
      ],
      "execution_count": 0,
      "outputs": []
    },
    {
      "cell_type": "code",
      "metadata": {
        "id": "-kh7s9KPYaFy",
        "colab_type": "code",
        "colab": {}
      },
      "source": [
        "df['tweet_SIA']=df.TweetText.apply(sent_classifier)"
      ],
      "execution_count": 0,
      "outputs": []
    },
    {
      "cell_type": "code",
      "metadata": {
        "id": "aEZlvmzrCpXN",
        "colab_type": "code",
        "outputId": "a594d909-b9ba-4bfa-88e4-c1253ed99efc",
        "colab": {
          "base_uri": "https://localhost:8080/",
          "height": 68
        }
      },
      "source": [
        "df['tweettxt_txtblob']=df.TweetText.apply(txt_blob)\n",
        "a=confusion_matrix(df['Sentiment'],df['tweettxt_txtblob'])\n",
        "a"
      ],
      "execution_count": 0,
      "outputs": [
        {
          "output_type": "execute_result",
          "data": {
            "text/plain": [
              "array([[ 234,  171,  167],\n",
              "       [ 201, 1213,  919],\n",
              "       [  38,  124,  357]])"
            ]
          },
          "metadata": {
            "tags": []
          },
          "execution_count": 81
        }
      ]
    },
    {
      "cell_type": "code",
      "metadata": {
        "id": "HXXE-k2QYeUv",
        "colab_type": "code",
        "outputId": "f71db0cd-0b50-4ced-a224-29dcff30235c",
        "colab": {
          "base_uri": "https://localhost:8080/",
          "height": 68
        }
      },
      "source": [
        "b=confusion_matrix(df['Sentiment'],df['tweet_SIA'])\n",
        "b"
      ],
      "execution_count": 0,
      "outputs": [
        {
          "output_type": "execute_result",
          "data": {
            "text/plain": [
              "array([[ 291,  138,  143],\n",
              "       [ 302, 1234,  797],\n",
              "       [  47,   99,  373]])"
            ]
          },
          "metadata": {
            "tags": []
          },
          "execution_count": 92
        }
      ]
    },
    {
      "cell_type": "code",
      "metadata": {
        "id": "LyEu9G59DOWi",
        "colab_type": "code",
        "colab": {}
      },
      "source": [
        ""
      ],
      "execution_count": 0,
      "outputs": []
    },
    {
      "cell_type": "code",
      "metadata": {
        "id": "LKvlIPdzDdIk",
        "colab_type": "code",
        "colab": {}
      },
      "source": [
        "import operator"
      ],
      "execution_count": 0,
      "outputs": []
    },
    {
      "cell_type": "code",
      "metadata": {
        "id": "K9vwz-WEDqm-",
        "colab_type": "code",
        "colab": {}
      },
      "source": [
        "def sent_finder(dictionary):\n",
        "            return max(dictionary.items(), key=operator.itemgetter(1))[0]"
      ],
      "execution_count": 0,
      "outputs": []
    },
    {
      "cell_type": "code",
      "metadata": {
        "id": "600kwDIbELmv",
        "colab_type": "code",
        "colab": {}
      },
      "source": [
        "df['max_sent']=df.tweet_sentiments.apply(sent_finder)"
      ],
      "execution_count": 0,
      "outputs": []
    },
    {
      "cell_type": "code",
      "metadata": {
        "id": "Q46ocvtZEQwT",
        "colab_type": "code",
        "outputId": "0e45f2e6-3ef6-4204-932c-f5096dbebf31",
        "colab": {
          "base_uri": "https://localhost:8080/",
          "height": 204
        }
      },
      "source": [
        "df.head()"
      ],
      "execution_count": 0,
      "outputs": [
        {
          "output_type": "execute_result",
          "data": {
            "text/html": [
              "<div>\n",
              "<style scoped>\n",
              "    .dataframe tbody tr th:only-of-type {\n",
              "        vertical-align: middle;\n",
              "    }\n",
              "\n",
              "    .dataframe tbody tr th {\n",
              "        vertical-align: top;\n",
              "    }\n",
              "\n",
              "    .dataframe thead th {\n",
              "        text-align: right;\n",
              "    }\n",
              "</style>\n",
              "<table border=\"1\" class=\"dataframe\">\n",
              "  <thead>\n",
              "    <tr style=\"text-align: right;\">\n",
              "      <th></th>\n",
              "      <th>Topic</th>\n",
              "      <th>Sentiment</th>\n",
              "      <th>TweetId</th>\n",
              "      <th>TweetDate</th>\n",
              "      <th>TweetText</th>\n",
              "      <th>tweet_sentiments</th>\n",
              "      <th>max_sent</th>\n",
              "      <th>tweettxt_txtblob</th>\n",
              "      <th>tweet_SIA</th>\n",
              "    </tr>\n",
              "  </thead>\n",
              "  <tbody>\n",
              "    <tr>\n",
              "      <th>0</th>\n",
              "      <td>apple</td>\n",
              "      <td>positive</td>\n",
              "      <td>126415614616154112</td>\n",
              "      <td>Tue Oct 18 21:53:25 +0000 2011</td>\n",
              "      <td>Now all @Apple has to do is get swype on the i...</td>\n",
              "      <td>{'neg': 0.0, 'neu': 1.0, 'pos': 0.0, 'compound...</td>\n",
              "      <td>neu</td>\n",
              "      <td>neutral</td>\n",
              "      <td>neutral</td>\n",
              "    </tr>\n",
              "    <tr>\n",
              "      <th>1</th>\n",
              "      <td>apple</td>\n",
              "      <td>positive</td>\n",
              "      <td>126404574230740992</td>\n",
              "      <td>Tue Oct 18 21:09:33 +0000 2011</td>\n",
              "      <td>@Apple will be adding more carrier support to ...</td>\n",
              "      <td>{'neg': 0.0, 'neu': 0.801, 'pos': 0.199, 'comp...</td>\n",
              "      <td>neu</td>\n",
              "      <td>positive</td>\n",
              "      <td>positive</td>\n",
              "    </tr>\n",
              "    <tr>\n",
              "      <th>2</th>\n",
              "      <td>apple</td>\n",
              "      <td>positive</td>\n",
              "      <td>126402758403305474</td>\n",
              "      <td>Tue Oct 18 21:02:20 +0000 2011</td>\n",
              "      <td>Hilarious @youtube video - guy does a duet wit...</td>\n",
              "      <td>{'neg': 0.0, 'neu': 0.591, 'pos': 0.409, 'comp...</td>\n",
              "      <td>compound</td>\n",
              "      <td>positive</td>\n",
              "      <td>positive</td>\n",
              "    </tr>\n",
              "    <tr>\n",
              "      <th>3</th>\n",
              "      <td>apple</td>\n",
              "      <td>positive</td>\n",
              "      <td>126397179614068736</td>\n",
              "      <td>Tue Oct 18 20:40:10 +0000 2011</td>\n",
              "      <td>@RIM you made it too easy for me to switch to ...</td>\n",
              "      <td>{'neg': 0.0, 'neu': 0.814, 'pos': 0.186, 'comp...</td>\n",
              "      <td>neu</td>\n",
              "      <td>positive</td>\n",
              "      <td>positive</td>\n",
              "    </tr>\n",
              "    <tr>\n",
              "      <th>4</th>\n",
              "      <td>apple</td>\n",
              "      <td>positive</td>\n",
              "      <td>126395626979196928</td>\n",
              "      <td>Tue Oct 18 20:34:00 +0000 2011</td>\n",
              "      <td>I just realized that the reason I got into twi...</td>\n",
              "      <td>{'neg': 0.0, 'neu': 0.791, 'pos': 0.209, 'comp...</td>\n",
              "      <td>neu</td>\n",
              "      <td>positive</td>\n",
              "      <td>positive</td>\n",
              "    </tr>\n",
              "  </tbody>\n",
              "</table>\n",
              "</div>"
            ],
            "text/plain": [
              "   Topic Sentiment             TweetId  ...  max_sent tweettxt_txtblob tweet_SIA\n",
              "0  apple  positive  126415614616154112  ...       neu          neutral   neutral\n",
              "1  apple  positive  126404574230740992  ...       neu         positive  positive\n",
              "2  apple  positive  126402758403305474  ...  compound         positive  positive\n",
              "3  apple  positive  126397179614068736  ...       neu         positive  positive\n",
              "4  apple  positive  126395626979196928  ...       neu         positive  positive\n",
              "\n",
              "[5 rows x 9 columns]"
            ]
          },
          "metadata": {
            "tags": []
          },
          "execution_count": 95
        }
      ]
    },
    {
      "cell_type": "code",
      "metadata": {
        "id": "oBz0-I-4Ex-I",
        "colab_type": "code",
        "colab": {}
      },
      "source": [
        "data['sent_dict']=data.reviewText.apply(sid.polarity_scores)"
      ],
      "execution_count": 0,
      "outputs": []
    },
    {
      "cell_type": "code",
      "metadata": {
        "id": "VpwJfFDfFlXc",
        "colab_type": "code",
        "colab": {}
      },
      "source": [
        "data['max_sent']=data.sent_dict.apply(sent_finder)"
      ],
      "execution_count": 0,
      "outputs": []
    },
    {
      "cell_type": "code",
      "metadata": {
        "id": "UkGAx0IkF3mh",
        "colab_type": "code",
        "outputId": "96e56ad8-09cf-4756-c166-aaa54394bbb1",
        "colab": {
          "base_uri": "https://localhost:8080/",
          "height": 289
        }
      },
      "source": [
        "data.head()\n"
      ],
      "execution_count": 0,
      "outputs": [
        {
          "output_type": "execute_result",
          "data": {
            "text/html": [
              "<div>\n",
              "<style scoped>\n",
              "    .dataframe tbody tr th:only-of-type {\n",
              "        vertical-align: middle;\n",
              "    }\n",
              "\n",
              "    .dataframe tbody tr th {\n",
              "        vertical-align: top;\n",
              "    }\n",
              "\n",
              "    .dataframe thead th {\n",
              "        text-align: right;\n",
              "    }\n",
              "</style>\n",
              "<table border=\"1\" class=\"dataframe\">\n",
              "  <thead>\n",
              "    <tr style=\"text-align: right;\">\n",
              "      <th></th>\n",
              "      <th>reviewerID</th>\n",
              "      <th>asin</th>\n",
              "      <th>reviewerName</th>\n",
              "      <th>helpful</th>\n",
              "      <th>reviewText</th>\n",
              "      <th>overall</th>\n",
              "      <th>summary</th>\n",
              "      <th>unixReviewTime</th>\n",
              "      <th>reviewTime</th>\n",
              "      <th>sent_dict</th>\n",
              "      <th>max_sent</th>\n",
              "      <th>txt_blob_senti</th>\n",
              "    </tr>\n",
              "  </thead>\n",
              "  <tbody>\n",
              "    <tr>\n",
              "      <th>0</th>\n",
              "      <td>A32T2H8150OJLU</td>\n",
              "      <td>B00000JBLH</td>\n",
              "      <td>ARH</td>\n",
              "      <td>[3, 4]</td>\n",
              "      <td>I bought my first HP12C in about 1984 or so, a...</td>\n",
              "      <td>5</td>\n",
              "      <td>A solid performer, and long time friend</td>\n",
              "      <td>1094169600</td>\n",
              "      <td>09 3, 2004</td>\n",
              "      <td>{'neg': 0.039, 'neu': 0.781, 'pos': 0.18, 'com...</td>\n",
              "      <td>compound</td>\n",
              "      <td>pos</td>\n",
              "    </tr>\n",
              "    <tr>\n",
              "      <th>1</th>\n",
              "      <td>A3MAFS04ZABRGO</td>\n",
              "      <td>B00000JBLH</td>\n",
              "      <td>Let it Be \"Alan\"</td>\n",
              "      <td>[7, 9]</td>\n",
              "      <td>WHY THIS BELATED REVIEW? I feel very obliged t...</td>\n",
              "      <td>5</td>\n",
              "      <td>Price of GOLD is up, so don't bury the golden ...</td>\n",
              "      <td>1197676800</td>\n",
              "      <td>12 15, 2007</td>\n",
              "      <td>{'neg': 0.029, 'neu': 0.872, 'pos': 0.099, 'co...</td>\n",
              "      <td>compound</td>\n",
              "      <td>pos</td>\n",
              "    </tr>\n",
              "    <tr>\n",
              "      <th>2</th>\n",
              "      <td>A1F1A0QQP2XVH5</td>\n",
              "      <td>B00000JBLH</td>\n",
              "      <td>Mark B</td>\n",
              "      <td>[3, 3]</td>\n",
              "      <td>I have an HP 48GX that has been kicking for mo...</td>\n",
              "      <td>2</td>\n",
              "      <td>Good functionality, but not durable like old HPs</td>\n",
              "      <td>1293840000</td>\n",
              "      <td>01 1, 2011</td>\n",
              "      <td>{'neg': 0.154, 'neu': 0.72, 'pos': 0.126, 'com...</td>\n",
              "      <td>neu</td>\n",
              "      <td>pos</td>\n",
              "    </tr>\n",
              "    <tr>\n",
              "      <th>3</th>\n",
              "      <td>A49R5DBXXQDE5</td>\n",
              "      <td>B00000JBLH</td>\n",
              "      <td>R. D Johnson</td>\n",
              "      <td>[7, 8]</td>\n",
              "      <td>I've started doing more finance stuff recently...</td>\n",
              "      <td>5</td>\n",
              "      <td>One of the last of an almost extinct species</td>\n",
              "      <td>1145404800</td>\n",
              "      <td>04 19, 2006</td>\n",
              "      <td>{'neg': 0.036, 'neu': 0.814, 'pos': 0.151, 'co...</td>\n",
              "      <td>compound</td>\n",
              "      <td>pos</td>\n",
              "    </tr>\n",
              "    <tr>\n",
              "      <th>4</th>\n",
              "      <td>A2XRMQA6PJ5ZJ8</td>\n",
              "      <td>B00000JBLH</td>\n",
              "      <td>Roger J. Buffington</td>\n",
              "      <td>[0, 0]</td>\n",
              "      <td>For simple calculations and discounted cash fl...</td>\n",
              "      <td>5</td>\n",
              "      <td>Still the best</td>\n",
              "      <td>1375574400</td>\n",
              "      <td>08 4, 2013</td>\n",
              "      <td>{'neg': 0.022, 'neu': 0.823, 'pos': 0.154, 'co...</td>\n",
              "      <td>compound</td>\n",
              "      <td>pos</td>\n",
              "    </tr>\n",
              "  </tbody>\n",
              "</table>\n",
              "</div>"
            ],
            "text/plain": [
              "       reviewerID        asin  ...  max_sent txt_blob_senti\n",
              "0  A32T2H8150OJLU  B00000JBLH  ...  compound            pos\n",
              "1  A3MAFS04ZABRGO  B00000JBLH  ...  compound            pos\n",
              "2  A1F1A0QQP2XVH5  B00000JBLH  ...       neu            pos\n",
              "3   A49R5DBXXQDE5  B00000JBLH  ...  compound            pos\n",
              "4  A2XRMQA6PJ5ZJ8  B00000JBLH  ...  compound            pos\n",
              "\n",
              "[5 rows x 12 columns]"
            ]
          },
          "metadata": {
            "tags": []
          },
          "execution_count": 57
        }
      ]
    },
    {
      "cell_type": "code",
      "metadata": {
        "id": "pXQho_HcGKHT",
        "colab_type": "code",
        "outputId": "94b1542d-e693-4700-faa0-1fce05e29f08",
        "colab": {
          "base_uri": "https://localhost:8080/",
          "height": 221
        }
      },
      "source": [
        "# data['Textblob_polarity']=data.reviewText.apply(blob)\n",
        "!pip install glove_python"
      ],
      "execution_count": 0,
      "outputs": [
        {
          "output_type": "stream",
          "text": [
            "Collecting glove_python\n",
            "\u001b[?25l  Downloading https://files.pythonhosted.org/packages/3e/79/7e7e548dd9dcb741935d031117f4bed133276c2a047aadad42f1552d1771/glove_python-0.1.0.tar.gz (263kB)\n",
            "\r\u001b[K     |█▎                              | 10kB 29.6MB/s eta 0:00:01\r\u001b[K     |██▌                             | 20kB 1.7MB/s eta 0:00:01\r\u001b[K     |███▊                            | 30kB 2.5MB/s eta 0:00:01\r\u001b[K     |█████                           | 40kB 1.7MB/s eta 0:00:01\r\u001b[K     |██████▎                         | 51kB 2.1MB/s eta 0:00:01\r\u001b[K     |███████▌                        | 61kB 2.5MB/s eta 0:00:01\r\u001b[K     |████████▊                       | 71kB 2.9MB/s eta 0:00:01\r\u001b[K     |██████████                      | 81kB 3.2MB/s eta 0:00:01\r\u001b[K     |███████████▏                    | 92kB 3.6MB/s eta 0:00:01\r\u001b[K     |████████████▌                   | 102kB 2.8MB/s eta 0:00:01\r\u001b[K     |█████████████▊                  | 112kB 2.8MB/s eta 0:00:01\r\u001b[K     |███████████████                 | 122kB 2.8MB/s eta 0:00:01\r\u001b[K     |████████████████▏               | 133kB 2.8MB/s eta 0:00:01\r\u001b[K     |█████████████████▍              | 143kB 2.8MB/s eta 0:00:01\r\u001b[K     |██████████████████▊             | 153kB 2.8MB/s eta 0:00:01\r\u001b[K     |████████████████████            | 163kB 2.8MB/s eta 0:00:01\r\u001b[K     |█████████████████████▏          | 174kB 2.8MB/s eta 0:00:01\r\u001b[K     |██████████████████████▍         | 184kB 2.8MB/s eta 0:00:01\r\u001b[K     |███████████████████████▋        | 194kB 2.8MB/s eta 0:00:01\r\u001b[K     |█████████████████████████       | 204kB 2.8MB/s eta 0:00:01\r\u001b[K     |██████████████████████████▏     | 215kB 2.8MB/s eta 0:00:01\r\u001b[K     |███████████████████████████▍    | 225kB 2.8MB/s eta 0:00:01\r\u001b[K     |████████████████████████████▋   | 235kB 2.8MB/s eta 0:00:01\r\u001b[K     |█████████████████████████████▉  | 245kB 2.8MB/s eta 0:00:01\r\u001b[K     |███████████████████████████████▏| 256kB 2.8MB/s eta 0:00:01\r\u001b[K     |████████████████████████████████| 266kB 2.8MB/s \n",
            "\u001b[?25hRequirement already satisfied: numpy in /usr/local/lib/python3.6/dist-packages (from glove_python) (1.17.4)\n",
            "Requirement already satisfied: scipy in /usr/local/lib/python3.6/dist-packages (from glove_python) (1.3.3)\n",
            "Building wheels for collected packages: glove-python\n",
            "  Building wheel for glove-python (setup.py) ... \u001b[?25l\u001b[?25hdone\n",
            "  Created wheel for glove-python: filename=glove_python-0.1.0-cp36-cp36m-linux_x86_64.whl size=700330 sha256=c784072e5a52faa20b31d6945b03c57b04a8f2199d165e7728c5bf4c0d27689d\n",
            "  Stored in directory: /root/.cache/pip/wheels/88/4b/6d/10c0d2ad32c9d9d68beec9694a6f0b6e83ab1662a90a089a4b\n",
            "Successfully built glove-python\n",
            "Installing collected packages: glove-python\n",
            "Successfully installed glove-python-0.1.0\n"
          ],
          "name": "stdout"
        }
      ]
    },
    {
      "cell_type": "code",
      "metadata": {
        "id": "tTrXnCJzP0Bg",
        "colab_type": "code",
        "colab": {}
      },
      "source": [
        "from glove import Glove\n",
        "from glove import Corpus\n"
      ],
      "execution_count": 0,
      "outputs": []
    },
    {
      "cell_type": "code",
      "metadata": {
        "id": "kExlIMSvRMu6",
        "colab_type": "code",
        "colab": {}
      },
      "source": [
        "sent=data['reviewText'][0]"
      ],
      "execution_count": 0,
      "outputs": []
    },
    {
      "cell_type": "code",
      "metadata": {
        "id": "pzHpDQ3bRk41",
        "colab_type": "code",
        "colab": {}
      },
      "source": [
        "sent=list(sent)"
      ],
      "execution_count": 0,
      "outputs": []
    },
    {
      "cell_type": "code",
      "metadata": {
        "id": "04OJwONcKCst",
        "colab_type": "code",
        "colab": {}
      },
      "source": [
        "glove=Glove()\n",
        "corp=Corpus()"
      ],
      "execution_count": 0,
      "outputs": []
    },
    {
      "cell_type": "code",
      "metadata": {
        "id": "AWzk4beaKJPC",
        "colab_type": "code",
        "outputId": "1f3e2749-867f-462a-bee8-770fe1574495",
        "colab": {
          "base_uri": "https://localhost:8080/",
          "height": 316
        }
      },
      "source": [
        "# glove_para=glove.most_similar(sent)\n",
        "corp.fit(sent)"
      ],
      "execution_count": 0,
      "outputs": [
        {
          "output_type": "error",
          "ename": "TypeError",
          "evalue": "ignored",
          "traceback": [
            "\u001b[0;31m---------------------------------------------------------------------------\u001b[0m",
            "\u001b[0;31mTypeError\u001b[0m                                 Traceback (most recent call last)",
            "\u001b[0;32m<ipython-input-44-cf3d8ec1c34a>\u001b[0m in \u001b[0;36m<module>\u001b[0;34m()\u001b[0m\n\u001b[0;32m----> 1\u001b[0;31m \u001b[0mcorp\u001b[0m\u001b[0;34m.\u001b[0m\u001b[0mfit\u001b[0m\u001b[0;34m(\u001b[0m\u001b[0msent\u001b[0m\u001b[0;34m)\u001b[0m\u001b[0;34m\u001b[0m\u001b[0;34m\u001b[0m\u001b[0m\n\u001b[0m",
            "\u001b[0;32m/usr/local/lib/python3.6/dist-packages/glove/corpus.py\u001b[0m in \u001b[0;36mfit\u001b[0;34m(self, corpus, window, ignore_missing)\u001b[0m\n\u001b[1;32m     62\u001b[0m                                                     \u001b[0mint\u001b[0m\u001b[0;34m(\u001b[0m\u001b[0mself\u001b[0m\u001b[0;34m.\u001b[0m\u001b[0mdictionary_supplied\u001b[0m\u001b[0;34m)\u001b[0m\u001b[0;34m,\u001b[0m\u001b[0;34m\u001b[0m\u001b[0;34m\u001b[0m\u001b[0m\n\u001b[1;32m     63\u001b[0m                                                     \u001b[0mint\u001b[0m\u001b[0;34m(\u001b[0m\u001b[0mwindow\u001b[0m\u001b[0;34m)\u001b[0m\u001b[0;34m,\u001b[0m\u001b[0;34m\u001b[0m\u001b[0;34m\u001b[0m\u001b[0m\n\u001b[0;32m---> 64\u001b[0;31m                                                     int(ignore_missing))\n\u001b[0m\u001b[1;32m     65\u001b[0m \u001b[0;34m\u001b[0m\u001b[0m\n\u001b[1;32m     66\u001b[0m     \u001b[0;32mdef\u001b[0m \u001b[0msave\u001b[0m\u001b[0;34m(\u001b[0m\u001b[0mself\u001b[0m\u001b[0;34m,\u001b[0m \u001b[0mfilename\u001b[0m\u001b[0;34m)\u001b[0m\u001b[0;34m:\u001b[0m\u001b[0;34m\u001b[0m\u001b[0;34m\u001b[0m\u001b[0m\n",
            "\u001b[0;32mglove/corpus_cython.pyx\u001b[0m in \u001b[0;36mglove.corpus_cython.construct_cooccurrence_matrix (glove/corpus_cython.cpp:3199)\u001b[0;34m()\u001b[0m\n",
            "\u001b[0;31mTypeError\u001b[0m: Expected list, got str"
          ]
        }
      ]
    },
    {
      "cell_type": "code",
      "metadata": {
        "id": "pvjbLvOWKl7z",
        "colab_type": "code",
        "colab": {}
      },
      "source": [
        ""
      ],
      "execution_count": 0,
      "outputs": []
    }
  ]
}