{
 "nbformat": 4,
 "nbformat_minor": 2,
 "metadata": {
  "language_info": {
   "name": "python",
   "codemirror_mode": {
    "name": "ipython",
    "version": 3
   },
   "version": "3.7.4-final"
  },
  "orig_nbformat": 2,
  "file_extension": ".py",
  "mimetype": "text/x-python",
  "name": "python",
  "npconvert_exporter": "python",
  "pygments_lexer": "ipython3",
  "version": 3,
  "kernelspec": {
   "name": "python37464bitanaconda3virtualenv2d67fba615da45e9860f162dad09bc97",
   "display_name": "Python 3.7.4 64-bit ('anaconda3': virtualenv)"
  }
 },
 "cells": [
  {
   "source": [
    "import pandas as pd\n",
    "import re,nltk\n",
    "from sklearn.model_selection import train_test_split as tts\n",
    "from sklearn import pipeline\n",
    "from nltk.corpus import stopwords\n",
    "from nltk.tokenize import word_tokenize\n",
    "from nltk.tokenize.treebank import TreebankWordDetokenizer\n",
    "import numpy as np"
   ],
   "cell_type": "code",
   "outputs": [],
   "metadata": {},
   "execution_count": 1
  },
  {
   "source": [
    "sw=set(stopwords.words('english'))"
   ],
   "cell_type": "code",
   "outputs": [],
   "metadata": {},
   "execution_count": 2
  },
  {
   "source": [
    "data=pd.read_csv('/Users/aadiharan99/Downloads/Womens Clothing E-Commerce Reviews.csv')"
   ],
   "cell_type": "code",
   "outputs": [],
   "metadata": {},
   "execution_count": 3
  },
  {
   "source": [
    "data.head()"
   ],
   "cell_type": "code",
   "outputs": [
    {
     "output_type": "execute_result",
     "data": {
      "text/plain": "   Unnamed: 0  Clothing ID  Age                    Title  \\\n0           0          767   33                      NaN   \n1           1         1080   34                      NaN   \n2           2         1077   60  Some major design flaws   \n3           3         1049   50         My favorite buy!   \n4           4          847   47         Flattering shirt   \n\n                                         Review Text  Rating  Recommended IND  \\\n0  Absolutely wonderful - silky and sexy and comf...       4                1   \n1  Love this dress!  it's sooo pretty.  i happene...       5                1   \n2  I had such high hopes for this dress and reall...       3                0   \n3  I love, love, love this jumpsuit. it's fun, fl...       5                1   \n4  This shirt is very flattering to all due to th...       5                1   \n\n   Positive Feedback Count   Division Name Department Name Class Name  \n0                        0       Initmates        Intimate  Intimates  \n1                        4         General         Dresses    Dresses  \n2                        0         General         Dresses    Dresses  \n3                        0  General Petite         Bottoms      Pants  \n4                        6         General            Tops    Blouses  ",
      "text/html": "<div>\n<style scoped>\n    .dataframe tbody tr th:only-of-type {\n        vertical-align: middle;\n    }\n\n    .dataframe tbody tr th {\n        vertical-align: top;\n    }\n\n    .dataframe thead th {\n        text-align: right;\n    }\n</style>\n<table border=\"1\" class=\"dataframe\">\n  <thead>\n    <tr style=\"text-align: right;\">\n      <th></th>\n      <th>Unnamed: 0</th>\n      <th>Clothing ID</th>\n      <th>Age</th>\n      <th>Title</th>\n      <th>Review Text</th>\n      <th>Rating</th>\n      <th>Recommended IND</th>\n      <th>Positive Feedback Count</th>\n      <th>Division Name</th>\n      <th>Department Name</th>\n      <th>Class Name</th>\n    </tr>\n  </thead>\n  <tbody>\n    <tr>\n      <td>0</td>\n      <td>0</td>\n      <td>767</td>\n      <td>33</td>\n      <td>NaN</td>\n      <td>Absolutely wonderful - silky and sexy and comf...</td>\n      <td>4</td>\n      <td>1</td>\n      <td>0</td>\n      <td>Initmates</td>\n      <td>Intimate</td>\n      <td>Intimates</td>\n    </tr>\n    <tr>\n      <td>1</td>\n      <td>1</td>\n      <td>1080</td>\n      <td>34</td>\n      <td>NaN</td>\n      <td>Love this dress!  it's sooo pretty.  i happene...</td>\n      <td>5</td>\n      <td>1</td>\n      <td>4</td>\n      <td>General</td>\n      <td>Dresses</td>\n      <td>Dresses</td>\n    </tr>\n    <tr>\n      <td>2</td>\n      <td>2</td>\n      <td>1077</td>\n      <td>60</td>\n      <td>Some major design flaws</td>\n      <td>I had such high hopes for this dress and reall...</td>\n      <td>3</td>\n      <td>0</td>\n      <td>0</td>\n      <td>General</td>\n      <td>Dresses</td>\n      <td>Dresses</td>\n    </tr>\n    <tr>\n      <td>3</td>\n      <td>3</td>\n      <td>1049</td>\n      <td>50</td>\n      <td>My favorite buy!</td>\n      <td>I love, love, love this jumpsuit. it's fun, fl...</td>\n      <td>5</td>\n      <td>1</td>\n      <td>0</td>\n      <td>General Petite</td>\n      <td>Bottoms</td>\n      <td>Pants</td>\n    </tr>\n    <tr>\n      <td>4</td>\n      <td>4</td>\n      <td>847</td>\n      <td>47</td>\n      <td>Flattering shirt</td>\n      <td>This shirt is very flattering to all due to th...</td>\n      <td>5</td>\n      <td>1</td>\n      <td>6</td>\n      <td>General</td>\n      <td>Tops</td>\n      <td>Blouses</td>\n    </tr>\n  </tbody>\n</table>\n</div>"
     },
     "metadata": {},
     "execution_count": 4
    }
   ],
   "metadata": {},
   "execution_count": 4
  },
  {
   "source": [
    "data['combi_text']=data['Title'].fillna(\"\")+\" \"+data['Review Text'].fillna(\"\")"
   ],
   "cell_type": "code",
   "outputs": [],
   "metadata": {},
   "execution_count": 5
  },
  {
   "source": [
    "data['combi_text']"
   ],
   "cell_type": "code",
   "outputs": [
    {
     "output_type": "execute_result",
     "data": {
      "text/plain": "0         Absolutely wonderful - silky and sexy and com...\n1         Love this dress!  it's sooo pretty.  i happen...\n2        Some major design flaws I had such high hopes ...\n3        My favorite buy! I love, love, love this jumps...\n4        Flattering shirt This shirt is very flattering...\n                               ...                        \n23481    Great dress for many occasions I was very happ...\n23482    Wish it was made of cotton It reminds me of ma...\n23483    Cute, but see through This fit well, but the t...\n23484    Very cute dress, perfect for summer parties an...\n23485    Please make more like this one! This dress in ...\nName: combi_text, Length: 23486, dtype: object"
     },
     "metadata": {},
     "execution_count": 6
    }
   ],
   "metadata": {},
   "execution_count": 6
  },
  {
   "source": [
    "list(data)"
   ],
   "cell_type": "code",
   "outputs": [
    {
     "output_type": "execute_result",
     "data": {
      "text/plain": "['Unnamed: 0',\n 'Clothing ID',\n 'Age',\n 'Title',\n 'Review Text',\n 'Rating',\n 'Recommended IND',\n 'Positive Feedback Count',\n 'Division Name',\n 'Department Name',\n 'Class Name',\n 'combi_text']"
     },
     "metadata": {},
     "execution_count": 7
    }
   ],
   "metadata": {},
   "execution_count": 7
  },
  {
   "source": [
    "data.drop(['Unnamed: 0'],1,inplace=True)"
   ],
   "cell_type": "code",
   "outputs": [],
   "metadata": {},
   "execution_count": 8
  },
  {
   "source": [
    "def word_preprocessor(text):\n",
    "  text=re.sub('[^a-zA-Z]', \" \", str(text))\n",
    "  text=text.lower()\n",
    "  text_tokens=word_tokenize(text)\n",
    "  text_tokens_no_sw=[w for w in text_tokens if not w in sw]\n",
    "  text=TreebankWordDetokenizer().detokenize(text_tokens_no_sw)\n",
    "  return text\n",
    "  \n",
    "  "
   ],
   "cell_type": "code",
   "outputs": [],
   "metadata": {},
   "execution_count": 9
  },
  {
   "source": [
    "data.head(10)"
   ],
   "cell_type": "code",
   "outputs": [
    {
     "output_type": "execute_result",
     "data": {
      "text/plain": "   Clothing ID  Age                                 Title  \\\n0          767   33                                   NaN   \n1         1080   34                                   NaN   \n2         1077   60               Some major design flaws   \n3         1049   50                      My favorite buy!   \n4          847   47                      Flattering shirt   \n5         1080   49               Not for the very petite   \n6          858   39                  Cagrcoal shimmer fun   \n7          858   39  Shimmer, surprisingly goes with lots   \n8         1077   24                            Flattering   \n9         1077   34                     Such a fun dress!   \n\n                                         Review Text  Rating  Recommended IND  \\\n0  Absolutely wonderful - silky and sexy and comf...       4                1   \n1  Love this dress!  it's sooo pretty.  i happene...       5                1   \n2  I had such high hopes for this dress and reall...       3                0   \n3  I love, love, love this jumpsuit. it's fun, fl...       5                1   \n4  This shirt is very flattering to all due to th...       5                1   \n5  I love tracy reese dresses, but this one is no...       2                0   \n6  I aded this in my basket at hte last mintue to...       5                1   \n7  I ordered this in carbon for store pick up, an...       4                1   \n8  I love this dress. i usually get an xs but it ...       5                1   \n9  I'm 5\"5' and 125 lbs. i ordered the s petite t...       5                1   \n\n   Positive Feedback Count   Division Name Department Name Class Name  \\\n0                        0       Initmates        Intimate  Intimates   \n1                        4         General         Dresses    Dresses   \n2                        0         General         Dresses    Dresses   \n3                        0  General Petite         Bottoms      Pants   \n4                        6         General            Tops    Blouses   \n5                        4         General         Dresses    Dresses   \n6                        1  General Petite            Tops      Knits   \n7                        4  General Petite            Tops      Knits   \n8                        0         General         Dresses    Dresses   \n9                        0         General         Dresses    Dresses   \n\n                                          combi_text  \n0   Absolutely wonderful - silky and sexy and com...  \n1   Love this dress!  it's sooo pretty.  i happen...  \n2  Some major design flaws I had such high hopes ...  \n3  My favorite buy! I love, love, love this jumps...  \n4  Flattering shirt This shirt is very flattering...  \n5  Not for the very petite I love tracy reese dre...  \n6  Cagrcoal shimmer fun I aded this in my basket ...  \n7  Shimmer, surprisingly goes with lots I ordered...  \n8  Flattering I love this dress. i usually get an...  \n9  Such a fun dress! I'm 5\"5' and 125 lbs. i orde...  ",
      "text/html": "<div>\n<style scoped>\n    .dataframe tbody tr th:only-of-type {\n        vertical-align: middle;\n    }\n\n    .dataframe tbody tr th {\n        vertical-align: top;\n    }\n\n    .dataframe thead th {\n        text-align: right;\n    }\n</style>\n<table border=\"1\" class=\"dataframe\">\n  <thead>\n    <tr style=\"text-align: right;\">\n      <th></th>\n      <th>Clothing ID</th>\n      <th>Age</th>\n      <th>Title</th>\n      <th>Review Text</th>\n      <th>Rating</th>\n      <th>Recommended IND</th>\n      <th>Positive Feedback Count</th>\n      <th>Division Name</th>\n      <th>Department Name</th>\n      <th>Class Name</th>\n      <th>combi_text</th>\n    </tr>\n  </thead>\n  <tbody>\n    <tr>\n      <td>0</td>\n      <td>767</td>\n      <td>33</td>\n      <td>NaN</td>\n      <td>Absolutely wonderful - silky and sexy and comf...</td>\n      <td>4</td>\n      <td>1</td>\n      <td>0</td>\n      <td>Initmates</td>\n      <td>Intimate</td>\n      <td>Intimates</td>\n      <td>Absolutely wonderful - silky and sexy and com...</td>\n    </tr>\n    <tr>\n      <td>1</td>\n      <td>1080</td>\n      <td>34</td>\n      <td>NaN</td>\n      <td>Love this dress!  it's sooo pretty.  i happene...</td>\n      <td>5</td>\n      <td>1</td>\n      <td>4</td>\n      <td>General</td>\n      <td>Dresses</td>\n      <td>Dresses</td>\n      <td>Love this dress!  it's sooo pretty.  i happen...</td>\n    </tr>\n    <tr>\n      <td>2</td>\n      <td>1077</td>\n      <td>60</td>\n      <td>Some major design flaws</td>\n      <td>I had such high hopes for this dress and reall...</td>\n      <td>3</td>\n      <td>0</td>\n      <td>0</td>\n      <td>General</td>\n      <td>Dresses</td>\n      <td>Dresses</td>\n      <td>Some major design flaws I had such high hopes ...</td>\n    </tr>\n    <tr>\n      <td>3</td>\n      <td>1049</td>\n      <td>50</td>\n      <td>My favorite buy!</td>\n      <td>I love, love, love this jumpsuit. it's fun, fl...</td>\n      <td>5</td>\n      <td>1</td>\n      <td>0</td>\n      <td>General Petite</td>\n      <td>Bottoms</td>\n      <td>Pants</td>\n      <td>My favorite buy! I love, love, love this jumps...</td>\n    </tr>\n    <tr>\n      <td>4</td>\n      <td>847</td>\n      <td>47</td>\n      <td>Flattering shirt</td>\n      <td>This shirt is very flattering to all due to th...</td>\n      <td>5</td>\n      <td>1</td>\n      <td>6</td>\n      <td>General</td>\n      <td>Tops</td>\n      <td>Blouses</td>\n      <td>Flattering shirt This shirt is very flattering...</td>\n    </tr>\n    <tr>\n      <td>5</td>\n      <td>1080</td>\n      <td>49</td>\n      <td>Not for the very petite</td>\n      <td>I love tracy reese dresses, but this one is no...</td>\n      <td>2</td>\n      <td>0</td>\n      <td>4</td>\n      <td>General</td>\n      <td>Dresses</td>\n      <td>Dresses</td>\n      <td>Not for the very petite I love tracy reese dre...</td>\n    </tr>\n    <tr>\n      <td>6</td>\n      <td>858</td>\n      <td>39</td>\n      <td>Cagrcoal shimmer fun</td>\n      <td>I aded this in my basket at hte last mintue to...</td>\n      <td>5</td>\n      <td>1</td>\n      <td>1</td>\n      <td>General Petite</td>\n      <td>Tops</td>\n      <td>Knits</td>\n      <td>Cagrcoal shimmer fun I aded this in my basket ...</td>\n    </tr>\n    <tr>\n      <td>7</td>\n      <td>858</td>\n      <td>39</td>\n      <td>Shimmer, surprisingly goes with lots</td>\n      <td>I ordered this in carbon for store pick up, an...</td>\n      <td>4</td>\n      <td>1</td>\n      <td>4</td>\n      <td>General Petite</td>\n      <td>Tops</td>\n      <td>Knits</td>\n      <td>Shimmer, surprisingly goes with lots I ordered...</td>\n    </tr>\n    <tr>\n      <td>8</td>\n      <td>1077</td>\n      <td>24</td>\n      <td>Flattering</td>\n      <td>I love this dress. i usually get an xs but it ...</td>\n      <td>5</td>\n      <td>1</td>\n      <td>0</td>\n      <td>General</td>\n      <td>Dresses</td>\n      <td>Dresses</td>\n      <td>Flattering I love this dress. i usually get an...</td>\n    </tr>\n    <tr>\n      <td>9</td>\n      <td>1077</td>\n      <td>34</td>\n      <td>Such a fun dress!</td>\n      <td>I'm 5\"5' and 125 lbs. i ordered the s petite t...</td>\n      <td>5</td>\n      <td>1</td>\n      <td>0</td>\n      <td>General</td>\n      <td>Dresses</td>\n      <td>Dresses</td>\n      <td>Such a fun dress! I'm 5\"5' and 125 lbs. i orde...</td>\n    </tr>\n  </tbody>\n</table>\n</div>"
     },
     "metadata": {},
     "execution_count": 9
    }
   ],
   "metadata": {},
   "execution_count": 9
  },
  {
   "source": [
    "data.drop(['Title','Review Text'],1,inplace=True)"
   ],
   "cell_type": "code",
   "outputs": [],
   "metadata": {},
   "execution_count": 10
  },
  {
   "source": [
    "data['combi_text']=data['combi_text'].apply(word_preprocessor)"
   ],
   "cell_type": "code",
   "outputs": [],
   "metadata": {},
   "execution_count": 15
  },
  {
   "cell_type": "code",
   "execution_count": null,
   "metadata": {},
   "outputs": [],
   "source": []
  }
 ]
}