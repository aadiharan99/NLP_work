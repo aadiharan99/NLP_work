{
  "nbformat": 4,
  "nbformat_minor": 0,
  "metadata": {
    "colab": {
      "name": "Untitled9.ipynb",
      "provenance": []
    },
    "kernelspec": {
      "name": "python3",
      "display_name": "Python 3"
    }
  },
  "cells": [
    {
      "cell_type": "code",
      "metadata": {
        "id": "TU4KDDcITVJ_",
        "colab_type": "code",
        "colab": {}
      },
      "source": [
        "import numpy as np"
      ],
      "execution_count": 0,
      "outputs": []
    },
    {
      "cell_type": "code",
      "metadata": {
        "id": "qDl6wMp9TY-K",
        "colab_type": "code",
        "colab": {}
      },
      "source": [
        "def prime(x):\n",
        "  if x==1:\n",
        "    return 2\n",
        "  count=1\n",
        "  n=1\n",
        "  while(count<x):\n",
        "    n+=2\n",
        "    if is_prime(n):\n",
        "      count+=1\n",
        "  return n\n",
        "\n",
        "def is_prime(n):\n",
        "  factor=2\n",
        "  while(factor*factor<=n):\n",
        "    if n%factor==0:\n",
        "      return False\n",
        "      factor+=1\n",
        "    return True\n",
        "\n",
        "\n",
        "\n",
        "\n",
        "\n",
        "\n",
        "\n"
      ],
      "execution_count": 0,
      "outputs": []
    },
    {
      "cell_type": "code",
      "metadata": {
        "id": "WyO5cgi4UsKn",
        "colab_type": "code",
        "colab": {
          "base_uri": "https://localhost:8080/",
          "height": 34
        },
        "outputId": "4d192ded-0711-42a1-980b-49d0899d6198"
      },
      "source": [
        "prime(800)\n"
      ],
      "execution_count": 24,
      "outputs": [
        {
          "output_type": "execute_result",
          "data": {
            "text/plain": [
              "1601"
            ]
          },
          "metadata": {
            "tags": []
          },
          "execution_count": 24
        }
      ]
    },
    {
      "cell_type": "code",
      "metadata": {
        "id": "9JZ2DwfeU1Q_",
        "colab_type": "code",
        "colab": {}
      },
      "source": [
        "3"
      ],
      "execution_count": 0,
      "outputs": []
    }
  ]
}