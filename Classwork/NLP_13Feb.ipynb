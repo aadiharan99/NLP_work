{
 "nbformat": 4,
 "nbformat_minor": 2,
 "metadata": {
  "language_info": {
   "name": "python",
   "codemirror_mode": {
    "name": "ipython",
    "version": 3
   },
   "version": "3.7.4-final"
  },
  "orig_nbformat": 2,
  "file_extension": ".py",
  "mimetype": "text/x-python",
  "name": "python",
  "npconvert_exporter": "python",
  "pygments_lexer": "ipython3",
  "version": 3,
  "kernelspec": {
   "name": "python37464bitbaseconda6df4474b22794d66bd3d4211c0da1731",
   "display_name": "Python 3.7.4 64-bit ('base': conda)"
  }
 },
 "cells": [
  {
   "cell_type": "code",
   "execution_count": 2,
   "metadata": {},
   "outputs": [],
   "source": [
    "import pandas as pd\n",
    "import re,nltk\n"
   ]
  },
  {
   "cell_type": "code",
   "execution_count": 3,
   "metadata": {},
   "outputs": [],
   "source": [
    "from sklearn.model_selection import train_test_split as tts\n",
    "from sklearn import pipeline\n",
    "from nltk.corpus import stopwords\n",
    "from nltk.tokenize import word_tokenize\n",
    "from nltk.tokenize.treebank import TreebankWordDetokenizer\n",
    "import numpy as np"
   ]
  },
  {
   "cell_type": "code",
   "execution_count": 4,
   "metadata": {},
   "outputs": [],
   "source": [
    "data=pd.read_csv('/Users/aadiharan99/Reviews.csv')\n",
    "data=data.sample(1000)"
   ]
  },
  {
   "cell_type": "code",
   "execution_count": 5,
   "metadata": {},
   "outputs": [],
   "source": [
    "from nltk.corpus import stopwords\n",
    "sw=set(stopwords.words('english'))\n"
   ]
  },
  {
   "cell_type": "code",
   "execution_count": 6,
   "metadata": {},
   "outputs": [],
   "source": [
    "def word_preprocessor(text):\n",
    "  text=re.sub('[^a-zA-Z]', \" \", str(text))\n",
    "  text=text.lower()\n",
    "  text_tokens=word_tokenize(text)\n",
    "  text_tokens_no_sw=[w for w in text_tokens if not w in sw]\n",
    "  text=TreebankWordDetokenizer().detokenize(text_tokens_no_sw)\n",
    "  return text\n",
    "  \n",
    "  "
   ]
  },
  {
   "cell_type": "code",
   "execution_count": 7,
   "metadata": {},
   "outputs": [],
   "source": [
    "data['cleaned_text']=data['Text'].apply(word_preprocessor)"
   ]
  },
  {
   "cell_type": "code",
   "execution_count": 8,
   "metadata": {},
   "outputs": [
    {
     "data": {
      "text/html": "<div>\n<style scoped>\n    .dataframe tbody tr th:only-of-type {\n        vertical-align: middle;\n    }\n\n    .dataframe tbody tr th {\n        vertical-align: top;\n    }\n\n    .dataframe thead th {\n        text-align: right;\n    }\n</style>\n<table border=\"1\" class=\"dataframe\">\n  <thead>\n    <tr style=\"text-align: right;\">\n      <th></th>\n      <th>Id</th>\n      <th>ProductId</th>\n      <th>UserId</th>\n      <th>ProfileName</th>\n      <th>HelpfulnessNumerator</th>\n      <th>HelpfulnessDenominator</th>\n      <th>Score</th>\n      <th>Time</th>\n      <th>Summary</th>\n      <th>Text</th>\n      <th>cleaned_text</th>\n    </tr>\n  </thead>\n  <tbody>\n    <tr>\n      <td>519343</td>\n      <td>519344</td>\n      <td>B002J9HQIY</td>\n      <td>A1EPU3WYJVO2BZ</td>\n      <td>Browneyedgirl</td>\n      <td>3</td>\n      <td>3</td>\n      <td>4</td>\n      <td>1316217600</td>\n      <td>Overpriced</td>\n      <td>I got the same product at my local grocery sto...</td>\n      <td>got product local grocery store much cheaper g...</td>\n    </tr>\n    <tr>\n      <td>410580</td>\n      <td>410581</td>\n      <td>B001KUOH26</td>\n      <td>AKCZIJ6ZHE41D</td>\n      <td>Jarucia Jaycox Nirula \"~A Pink American\"</td>\n      <td>8</td>\n      <td>8</td>\n      <td>5</td>\n      <td>1227225600</td>\n      <td>Bye-Bye Zeros, Hello My New Hero--Zevia</td>\n      <td>I grew up drinking Diet sodas.  No joke.  I'd ...</td>\n      <td>grew drinking diet sodas joke never tasted reg...</td>\n    </tr>\n    <tr>\n      <td>556227</td>\n      <td>556228</td>\n      <td>B004EDZ87Y</td>\n      <td>A4VMQ6ZTSXSSL</td>\n      <td>kiwanissandy \"Go Bucks!\"</td>\n      <td>27</td>\n      <td>28</td>\n      <td>5</td>\n      <td>1292457600</td>\n      <td>Delicious with 5 spice aromas, not full of sug...</td>\n      <td>This India Spice Chai while brewing fills the ...</td>\n      <td>india spice chai brewing fills whole room wond...</td>\n    </tr>\n    <tr>\n      <td>506254</td>\n      <td>506255</td>\n      <td>B00413AELW</td>\n      <td>A2XT1DFEV6UYHX</td>\n      <td>L. SVAC</td>\n      <td>0</td>\n      <td>0</td>\n      <td>5</td>\n      <td>1292716800</td>\n      <td>Holiday Tree Dried Fruit Gift Package</td>\n      <td>The recipients of this gift were delighted wit...</td>\n      <td>recipients gift delighted package arrived sche...</td>\n    </tr>\n    <tr>\n      <td>318568</td>\n      <td>318569</td>\n      <td>B000NGP8UI</td>\n      <td>A1LIM4V7Q6LJJJ</td>\n      <td>N. Cao</td>\n      <td>2</td>\n      <td>5</td>\n      <td>1</td>\n      <td>1272153600</td>\n      <td>New formula is absurd!</td>\n      <td>When I found out Rockstar Juiced recently chan...</td>\n      <td>found rockstar juiced recently changed formula...</td>\n    </tr>\n  </tbody>\n</table>\n</div>",
      "text/plain": "            Id   ProductId          UserId  \\\n519343  519344  B002J9HQIY  A1EPU3WYJVO2BZ   \n410580  410581  B001KUOH26   AKCZIJ6ZHE41D   \n556227  556228  B004EDZ87Y   A4VMQ6ZTSXSSL   \n506254  506255  B00413AELW  A2XT1DFEV6UYHX   \n318568  318569  B000NGP8UI  A1LIM4V7Q6LJJJ   \n\n                                     ProfileName  HelpfulnessNumerator  \\\n519343                             Browneyedgirl                     3   \n410580  Jarucia Jaycox Nirula \"~A Pink American\"                     8   \n556227                  kiwanissandy \"Go Bucks!\"                    27   \n506254                                   L. SVAC                     0   \n318568                                    N. Cao                     2   \n\n        HelpfulnessDenominator  Score        Time  \\\n519343                       3      4  1316217600   \n410580                       8      5  1227225600   \n556227                      28      5  1292457600   \n506254                       0      5  1292716800   \n318568                       5      1  1272153600   \n\n                                                  Summary  \\\n519343                                         Overpriced   \n410580            Bye-Bye Zeros, Hello My New Hero--Zevia   \n556227  Delicious with 5 spice aromas, not full of sug...   \n506254              Holiday Tree Dried Fruit Gift Package   \n318568                             New formula is absurd!   \n\n                                                     Text  \\\n519343  I got the same product at my local grocery sto...   \n410580  I grew up drinking Diet sodas.  No joke.  I'd ...   \n556227  This India Spice Chai while brewing fills the ...   \n506254  The recipients of this gift were delighted wit...   \n318568  When I found out Rockstar Juiced recently chan...   \n\n                                             cleaned_text  \n519343  got product local grocery store much cheaper g...  \n410580  grew drinking diet sodas joke never tasted reg...  \n556227  india spice chai brewing fills whole room wond...  \n506254  recipients gift delighted package arrived sche...  \n318568  found rockstar juiced recently changed formula...  "
     },
     "execution_count": 8,
     "metadata": {},
     "output_type": "execute_result"
    }
   ],
   "source": [
    "data.head()"
   ]
  },
  {
   "cell_type": "code",
   "execution_count": 9,
   "metadata": {},
   "outputs": [],
   "source": [
    "data.drop(['Text'],1,inplace=True)"
   ]
  },
  {
   "cell_type": "code",
   "execution_count": 114,
   "metadata": {},
   "outputs": [],
   "source": [
    "from sklearn.feature_extraction.text import TfidfVectorizer\n",
    "tf_idf=TfidfVectorizer()"
   ]
  },
  {
   "cell_type": "code",
   "execution_count": 115,
   "metadata": {},
   "outputs": [],
   "source": [
    "score=tf_idf.fit_transform(data['cleaned_text'])"
   ]
  },
  {
   "cell_type": "code",
   "execution_count": 116,
   "metadata": {},
   "outputs": [],
   "source": [
    "dense=score.todense()\n",
    "dense1=dense.tolist()"
   ]
  },
  {
   "cell_type": "code",
   "execution_count": 118,
   "metadata": {},
   "outputs": [],
   "source": [
    "col_names=tf_idf.get_feature_names()"
   ]
  },
  {
   "cell_type": "code",
   "execution_count": 119,
   "metadata": {},
   "outputs": [],
   "source": [
    "df = pd.DataFrame(dense1,columns = col_names)"
   ]
  },
  {
   "cell_type": "code",
   "execution_count": 120,
   "metadata": {},
   "outputs": [
    {
     "data": {
      "text/html": "<div>\n<style scoped>\n    .dataframe tbody tr th:only-of-type {\n        vertical-align: middle;\n    }\n\n    .dataframe tbody tr th {\n        vertical-align: top;\n    }\n\n    .dataframe thead th {\n        text-align: right;\n    }\n</style>\n<table border=\"1\" class=\"dataframe\">\n  <thead>\n    <tr style=\"text-align: right;\">\n      <th></th>\n      <th>abated</th>\n      <th>ability</th>\n      <th>able</th>\n      <th>abouth</th>\n      <th>abroad</th>\n      <th>absence</th>\n      <th>absolute</th>\n      <th>absolutely</th>\n      <th>absolutly</th>\n      <th>absorb</th>\n      <th>...</th>\n      <th>zing</th>\n      <th>zinger</th>\n      <th>zingiber</th>\n      <th>zingy</th>\n      <th>zip</th>\n      <th>ziplock</th>\n      <th>zmy</th>\n      <th>zoe</th>\n      <th>zone</th>\n      <th>zuke</th>\n    </tr>\n  </thead>\n  <tbody>\n    <tr>\n      <td>0</td>\n      <td>0.0</td>\n      <td>0.0</td>\n      <td>0.0</td>\n      <td>0.0</td>\n      <td>0.0</td>\n      <td>0.0</td>\n      <td>0.0</td>\n      <td>0.0</td>\n      <td>0.0</td>\n      <td>0.0</td>\n      <td>...</td>\n      <td>0.0</td>\n      <td>0.0</td>\n      <td>0.0</td>\n      <td>0.0</td>\n      <td>0.0</td>\n      <td>0.0</td>\n      <td>0.0</td>\n      <td>0.0</td>\n      <td>0.0</td>\n      <td>0.0</td>\n    </tr>\n    <tr>\n      <td>1</td>\n      <td>0.0</td>\n      <td>0.0</td>\n      <td>0.0</td>\n      <td>0.0</td>\n      <td>0.0</td>\n      <td>0.0</td>\n      <td>0.0</td>\n      <td>0.0</td>\n      <td>0.0</td>\n      <td>0.0</td>\n      <td>...</td>\n      <td>0.0</td>\n      <td>0.0</td>\n      <td>0.0</td>\n      <td>0.0</td>\n      <td>0.0</td>\n      <td>0.0</td>\n      <td>0.0</td>\n      <td>0.0</td>\n      <td>0.0</td>\n      <td>0.0</td>\n    </tr>\n    <tr>\n      <td>2</td>\n      <td>0.0</td>\n      <td>0.0</td>\n      <td>0.0</td>\n      <td>0.0</td>\n      <td>0.0</td>\n      <td>0.0</td>\n      <td>0.0</td>\n      <td>0.0</td>\n      <td>0.0</td>\n      <td>0.0</td>\n      <td>...</td>\n      <td>0.0</td>\n      <td>0.0</td>\n      <td>0.0</td>\n      <td>0.0</td>\n      <td>0.0</td>\n      <td>0.0</td>\n      <td>0.0</td>\n      <td>0.0</td>\n      <td>0.0</td>\n      <td>0.0</td>\n    </tr>\n    <tr>\n      <td>3</td>\n      <td>0.0</td>\n      <td>0.0</td>\n      <td>0.0</td>\n      <td>0.0</td>\n      <td>0.0</td>\n      <td>0.0</td>\n      <td>0.0</td>\n      <td>0.0</td>\n      <td>0.0</td>\n      <td>0.0</td>\n      <td>...</td>\n      <td>0.0</td>\n      <td>0.0</td>\n      <td>0.0</td>\n      <td>0.0</td>\n      <td>0.0</td>\n      <td>0.0</td>\n      <td>0.0</td>\n      <td>0.0</td>\n      <td>0.0</td>\n      <td>0.0</td>\n    </tr>\n    <tr>\n      <td>4</td>\n      <td>0.0</td>\n      <td>0.0</td>\n      <td>0.0</td>\n      <td>0.0</td>\n      <td>0.0</td>\n      <td>0.0</td>\n      <td>0.0</td>\n      <td>0.0</td>\n      <td>0.0</td>\n      <td>0.0</td>\n      <td>...</td>\n      <td>0.0</td>\n      <td>0.0</td>\n      <td>0.0</td>\n      <td>0.0</td>\n      <td>0.0</td>\n      <td>0.0</td>\n      <td>0.0</td>\n      <td>0.0</td>\n      <td>0.0</td>\n      <td>0.0</td>\n    </tr>\n  </tbody>\n</table>\n<p>5 rows × 6489 columns</p>\n</div>",
      "text/plain": "   abated  ability  able  abouth  abroad  absence  absolute  absolutely  \\\n0     0.0      0.0   0.0     0.0     0.0      0.0       0.0         0.0   \n1     0.0      0.0   0.0     0.0     0.0      0.0       0.0         0.0   \n2     0.0      0.0   0.0     0.0     0.0      0.0       0.0         0.0   \n3     0.0      0.0   0.0     0.0     0.0      0.0       0.0         0.0   \n4     0.0      0.0   0.0     0.0     0.0      0.0       0.0         0.0   \n\n   absolutly  absorb  ...  zing  zinger  zingiber  zingy  zip  ziplock  zmy  \\\n0        0.0     0.0  ...   0.0     0.0       0.0    0.0  0.0      0.0  0.0   \n1        0.0     0.0  ...   0.0     0.0       0.0    0.0  0.0      0.0  0.0   \n2        0.0     0.0  ...   0.0     0.0       0.0    0.0  0.0      0.0  0.0   \n3        0.0     0.0  ...   0.0     0.0       0.0    0.0  0.0      0.0  0.0   \n4        0.0     0.0  ...   0.0     0.0       0.0    0.0  0.0      0.0  0.0   \n\n   zoe  zone  zuke  \n0  0.0   0.0   0.0  \n1  0.0   0.0   0.0  \n2  0.0   0.0   0.0  \n3  0.0   0.0   0.0  \n4  0.0   0.0   0.0  \n\n[5 rows x 6489 columns]"
     },
     "execution_count": 120,
     "metadata": {},
     "output_type": "execute_result"
    }
   ],
   "source": [
    "df.head()"
   ]
  },
  {
   "cell_type": "code",
   "execution_count": 121,
   "metadata": {},
   "outputs": [],
   "source": [
    "import numpy as np\n",
    "from sklearn.decomposition import NMF"
   ]
  },
  {
   "cell_type": "code",
   "execution_count": 147,
   "metadata": {},
   "outputs": [],
   "source": [
    "nmf=NMF(10,random_state=42,alpha=0.1,l1_ratio=0.5,init='nndsvd')"
   ]
  },
  {
   "cell_type": "code",
   "execution_count": 148,
   "metadata": {},
   "outputs": [],
   "source": [
    "arr=nmf.fit_transform(df)"
   ]
  },
  {
   "cell_type": "code",
   "execution_count": 149,
   "metadata": {},
   "outputs": [],
   "source": [
    "comps=nmf.components_"
   ]
  },
  {
   "cell_type": "code",
   "execution_count": 150,
   "metadata": {},
   "outputs": [
    {
     "data": {
      "text/plain": "array([[0.        , 0.        , 0.00300981, ..., 0.        , 0.        ,\n        0.        ],\n       [0.        , 0.        , 0.        , ..., 0.        , 0.        ,\n        0.        ],\n       [0.        , 0.        , 0.        , ..., 0.        , 0.        ,\n        0.        ],\n       ...,\n       [0.        , 0.        , 0.        , ..., 0.        , 0.        ,\n        0.        ],\n       [0.        , 0.        , 0.00807306, ..., 0.        , 0.        ,\n        0.        ],\n       [0.        , 0.        , 0.        , ..., 0.        , 0.        ,\n        0.02621055]])"
     },
     "execution_count": 150,
     "metadata": {},
     "output_type": "execute_result"
    }
   ],
   "source": [
    "comps"
   ]
  },
  {
   "cell_type": "code",
   "execution_count": 151,
   "metadata": {},
   "outputs": [],
   "source": [
    "from sklearn.decomposition import LatentDirichletAllocation"
   ]
  },
  {
   "cell_type": "code",
   "execution_count": 152,
   "metadata": {},
   "outputs": [],
   "source": [
    "lda=LatentDirichletAllocation(n_components=10)"
   ]
  },
  {
   "cell_type": "code",
   "execution_count": 153,
   "metadata": {},
   "outputs": [],
   "source": [
    "model1=lda.fit_transform(df)"
   ]
  },
  {
   "cell_type": "code",
   "execution_count": 154,
   "metadata": {},
   "outputs": [],
   "source": [
    "comps1=lda.components_"
   ]
  },
  {
   "cell_type": "code",
   "execution_count": 155,
   "metadata": {},
   "outputs": [],
   "source": [
    "def print_topics(model, count_vectorizer, n_top_words):\n",
    "    words = count_vectorizer.get_feature_names()\n",
    "    for topic_idx, topic in enumerate(model.components_):\n",
    "        print(\"\\nTopic #%d:\" % topic_idx)\n",
    "        print(\" \".join([words[i]\n",
    "                        for i in topic.argsort()[:-n_top_words - 1:-1]]))"
   ]
  },
  {
   "cell_type": "code",
   "execution_count": 156,
   "metadata": {},
   "outputs": [
    {
     "name": "stdout",
     "output_type": "stream",
     "text": "\nTopic #0:\nbr product dog like food tea loves oil great add com href gp www http one sugar use well much training husband better amazon cereal ingredients new treats butter flavor love good eat taste pack coffee dogs different would price noodles best treat chai wish excellent free cup back pretty take making get quality seems smell coconut healthy without bag since however local seemed stars puppy son artificial breakfast snacks leaf dry cough even peanut energy fruit organic bought cat orange crackers bars kinds jerky calories colors though beef size contain regular high ever problems far bottle say version favorite\n\nTopic #1:\nbr like tea good bread soup gluten used favorite bad chocolate time free made get filling win sugar eat dog really right breakfast coconut food stuff protein baking crunch tastes milk real something product benefits would black oatmeal sauce quite great yummy taste cup hoisin picky bought cream home bar type espresso surely probably one cans mix kids go power love tomato back meat machine second run put give ginger gf daily brand soyajoy bag typically hard lbs hot muffins delicious bone important outside lemon smooth still paws eaters stars pure tasty local morning money flowers natural price looking think\n\nTopic #2:\nbr like taste good find coffee flavor really love tea much great well cookies best get real flour free know wheat even delicious thing chips hard disappointed try almonds loves product calories fruit food amazon also drink would three almond things sodium bought one got eating tasting organic day sugar without use price perfect light buy rice anyone tried sweet go way potatoes salt bars healthy spice directly many thinking everything make dog low compared bite brand cocoa eat put hot else part found ordered mini quite years children first treats favorite noodles old bar used stuff every thin dogs\n\nTopic #3:\nbr good product use love less chocolate get like store tasted find taste even rice sugar try hard difficult price happy quite well pork eat juice bones would pack amazon cats recieved bought often one glad yogurt means able time local comes com stuff reorder wanted mix things though made ok hot cans share box fast husband bars finding shown something tried minerals magnesium timely pouch daughter coffee gp href www http ingredient take seasoned since grocery chicken expensive tea day changed rather highly super earn plants carrying yet bar threw low flour bowl thought wait taffy grain put costco\n\nTopic #4:\nbr coffee great one tea good like amazon love taste buy best time little flavor get would also product price tried really find cup bags try food much chips flavors better order treats cups way first dogs well store got two make day bag box dog eat go cookies nice snack definitely another brand every deal found sweet quality many never buying even easy excellent whole bit eating loved chocolate always strong could bought treat free think work lot fresh shipping diet purchase fat recommend loves give makes years milk purchased actually money sure made water products favorite drink old\n\nTopic #5:\ntea product price like good use great flavor food taste dog flakes potato coffee cup br got recommend go loves first amazon little paid highly popchips delicious every favorite day chai much anyone salami soft weak ordered find would recently single hard green cookies weeks time starbucks run stash better beans get loved found discovered daughter anything item waste rub grocery one morning even smells plan company cherries oatmeal bought annie know shipped vanilla tiny bag party tasting plastic finest dry creamer definetly happy dilmah repeat drinker sit gluten com started brewing candy container cat variety clams made peanuts particular\n\nTopic #6:\nbr tea food like popcorn great good product dry perfect flavor one lot butter love eat looking right cat think wellness worth cats tasted use something likes ordered expensive time also cost rice real though needed bites sugar value know natural cherries disappointed hair dog really juice taste without vitamin jar everyone find better years harsh smell either anything son flavors melted available flavored make second life put conditioner carry pricey small little chews previous months tastes even arrived almost smells looked done loves opened brewed forward slightly way scent home honey science quantity weeks price simply say shelf junk\n\nTopic #7:\nbr taste ginger good like tea product oatmeal love really amazon busy fresh also gluten problem better enjoy buy check time months used give coffee instant order one cheese bad packet use tastes get recommended wonderful see real trix wrong tasted even works first dressing texture pleasant without free start flavor sugar great though dairy stores grain baby tasting snaps company retail picky gives would put cooking cents delighted smooth body keep breath food grocery packing tablespoon greece green find highly roast hodgson way something farms medium back dogs bean clean goes corn thank overpriced drinks long larabars could hard\n\nTopic #8:\ncoffee chocolate would flavor really love perfect like one product good tried square food jerky hot full clean since highly br grove eat syrup berries tastes well tasted high juice box smell cheese fructose recommended best ok hard pure buy try fish order decent lot corn big dog popular bag much got smooth excellent dry french help options tasting dieting use wonderful bulbs fats milk expect trans little petco know heavy brand seems everyone regular mouth etc almost morning cup idea great sticks gluten natural whiskey supplement shrimp rip ones company sugar told today far also found item salt cheddar\n\nTopic #9:\ncoffee br great bars tasty tasting use blend try roast taste good eat product love healthy sour gets breakfast delicious almost highly kind peanut bad butter tea picky bag recommend ordered licorice dog problem stronger flavor pod could black quite french one chocolate satisfying two else favorite making better cup thing fresh light brew beat jerky even give stuff say chips item smooth little small oils pb free almond candy second gluten oil nutty value tasted ginger sized organic packets cheaper flavored big well getting doxie though nasty whipped care cheap something cereal first brewed grocery local gave dressing using\n"
    }
   ],
   "source": [
    "print_topics(lda,tf_idf,100)"
   ]
  },
  {
   "cell_type": "code",
   "execution_count": 157,
   "metadata": {},
   "outputs": [
    {
     "name": "stdout",
     "output_type": "stream",
     "text": "\nTopic #0:\nlike good taste one really would flavor product chocolate get also tried much time love little eat buy try better even way first sugar best use lot tastes got bought well go thing day bag make flavors sweet milk bars hot box two used think calories recommend something eating healthy favorite right made give whole though order brand organic tasted free another bad coconut texture thought definitely drink know bit real stuff say quite ordered snack fresh without delicious every highly want buying easy fat bar could money low tasty loved looking never nice since pasta put add fruit makes\n\nTopic #1:\ntea green bags chai black teas breakfast love cup drink leaf brew strong english stash iced drinking wonderful full flavor add sugar cold twinings go leaves needed quality drinker tazo flowers every hint brewed make afternoon sweet honey aroma favorite numi balance absolutely loose dilmah freinds little spice hot weak perfect deliciozoooo flavored steep list gifts wrong mint herbal ago chamomile taste rooibos delicious ginger agave starbucks due irish orange double dollars definitely use milk boxes big try bitterness white morning work grey earl yogi even matcha day ordering stopped real organic description cravings decaf color sorry bergamot nice benefits\n\nTopic #2:\ncoffee cup strong roast bold flavor pods smooth enjoy french cups flavored maker decaf blend one best coffees rich mountain aroma pod brewing black know light wife weak vanilla brew smell acid good like bitter morning hazelnut use fan drink tasting expect creamer espresso senseo brewer taste decent water medium get full pot likes bite prefer find disappointed keurig ground delicious machine order every green pleasant gets dark far said nice buying tried big non pretty tastes brand beans mother kitchen memory drinking choice expected fuzzy perfect aftertaste using nantucket marley single packet wonderful put different instant always may still\n\nTopic #3:\nbr use one many see think bad sugar products could much delicious package maybe packaging idea used fat sweetener bag well fresh jerky candy get store around top ingredients cup health granola made artificial bags times stars double back try say packed smell matcha wheat want come pick stretch healthy enough bottom recommended may benefits two caffeine open reason types lime right even flavored starbucks subscribe date mouth gm cost ground water time kind added amount hand version save gluten high melt bean pretty bar keep amazon never free expiration calories pricey thin recipe lb little rating ooma feel etc\n\nTopic #4:\nfood cat cats eat canned picky dry wellness feeding dog dogs foods pet problems little spend three amount eating healthy vet years well brand old wet started adult science weight bag plus diet ants normal never perfect chicken knowing junk two corn beef mix since anything real stuff gravy would sick friskies better active enjoy looks review health cans ant feed products size told excellent tuna pets alternative pricey also switched even one achieved waste made finding eggs whatever think iams comes sites lb simply consider beloved months beneful problem expensive back finicky hair worth issues human want kibble based\n\nTopic #5:\namazon price find product store love found local buy grocery available best com order deal happy hard thank glad time cheaper shipping received excellent area cereal ordered beat dogs able pack purchase elsewhere expensive bulk stores item great delivery finding could brand cans walmart decaf got getting date case locally stock directly delicious much purchased days sells anywhere came pumpkin offering favorite get costco buying canned reasonable online ridiculous extremely service boxes line longer well difficult http www href gp butter better within ordering going charges natural anything bags step increasingly thanks satisfied frustrates paid company pay licorice okay selling\n\nTopic #6:\ndog treats loves treat dogs food give toy training smell puppy paws chicken chewer doggie would hard teeth day big recommend old older feed gets first eat quality look horrible thinks switched get bones problems lb help one supplements years shaped thank getting health nice idiots like tools bought serve times doesnt large products pieces giving otherwise organic everyday works freeze say bucket easily stores diarrhea happy breed well greenies regular small vet dont time name loved heard size etc zuke fit mess picky looks remind bakery prefers hips twist dried days believe likes grain love eats blue cute work\n\nTopic #7:\nchips good salsa like chip bag snack tortilla baked texture kettle salt taste bags bbq flavor potato eating salty crispy plain easier scissors best thin chew sweet ever snacking vinegar calories regular brittle plocky sandwich light lots sour especially downside guiltless alternative minimal ones open grams waste dip spicy never super deal date gourmet crunchy try stale cheese onion purchased colorings thick friends usually spice supposed fat grease soooo remarkable fried flavoring time shipping tangy delicious pretty slightly krinkle eat respectable cut rip spoiled stores tasted finish rancid amount see byeeeeeeeeeeeeeeee artichoke beware greasy flavorful somehow local healthier cardboard sitting\n\nTopic #8:\ncookies free gluten cookie like sugar chewy splenda raspberry butter oatmeal kids favorite soft best pecans crumbled regular sides taste murray horrible arrived eat extremely almond lots disappointed ever still gf delicious chocolate friends even customer peanut often raisins tasted diabetic mart bake rather expensive wal quantity bought hsuband hard cinnamon apples calories grainy husband almonds thin regardless father bread disappointing packaging yum thought usually crisp favorites pretzels enough able crispy found gfcf richest broken tiniest windmill stand boy asked went cravings cooks crumbs happy maid see chip mind ahoy changed really quite dutch mean repeat fixing fleas finicky flavorless\n\nTopic #9:\ngreat taste training treats fast deal loves tasting snack healthy quick love day eat giving fruit tools purchase annie lunch morning item years fill basenji makes service product flavors start packs zuke serve price gets want putting use seem every feel thanks daughter gives drinking kids guess medium keeping smaller way healthier picky foot dogs go especially reasonable cheap option sure snickers finds final fleur finally find finding fixture fine flecks fleas flea finely flavourless finer flickering filters flavourful filling file floral filets filled filler fillers fillings flies flop fills floor filter filtered flood finest flavoured fixing fishing fishy fit\n"
    }
   ],
   "source": [
    "print_topics(nmf,tf_idf,100)\n"
   ]
  },
  {
   "cell_type": "code",
   "execution_count": null,
   "metadata": {},
   "outputs": [],
   "source": []
  }
 ]
}